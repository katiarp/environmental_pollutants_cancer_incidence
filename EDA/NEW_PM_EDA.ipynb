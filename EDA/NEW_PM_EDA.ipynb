{
  "nbformat": 4,
  "nbformat_minor": 0,
  "metadata": {
    "colab": {
      "provenance": []
    },
    "kernelspec": {
      "name": "python3",
      "display_name": "Python 3"
    },
    "language_info": {
      "name": "python"
    }
  },
  "cells": [
    {
      "cell_type": "markdown",
      "metadata": {
        "id": "view-in-github"
      },
      "source": [
        "<a href=\"https://colab.research.google.com/github/cbeckler/final_project/blob/cb_etl/PM_EDA.ipynb\" target=\"_parent\"><img src=\"https://colab.research.google.com/assets/colab-badge.svg\" alt=\"Open In Colab\"/></a>"
      ]
    },
    {
      "cell_type": "code",
      "execution_count": 1,
      "metadata": {
        "colab": {
          "base_uri": "https://localhost:8080/"
        },
        "id": "B4P6v6w-EMjB",
        "outputId": "3ab738a0-ce31-4b6e-c329-d1399d96be66"
      },
      "outputs": [
        {
          "output_type": "stream",
          "name": "stdout",
          "text": [
            "\r0% [Working]\r            \rGet:1 https://cloud.r-project.org/bin/linux/ubuntu focal-cran40/ InRelease [3,622 B]\n",
            "\r0% [Waiting for headers] [Connecting to security.ubuntu.com (185.125.190.36)] [\r0% [Waiting for headers] [Connecting to security.ubuntu.com (185.125.190.36)] [\r                                                                               \rHit:2 http://archive.ubuntu.com/ubuntu focal InRelease\n",
            "\r0% [Waiting for headers] [Connecting to security.ubuntu.com (185.125.190.36)] [\r                                                                               \rGet:3 http://archive.ubuntu.com/ubuntu focal-updates InRelease [114 kB]\n",
            "Hit:4 https://developer.download.nvidia.com/compute/cuda/repos/ubuntu2004/x86_64  InRelease\n",
            "Get:5 http://security.ubuntu.com/ubuntu focal-security InRelease [114 kB]\n",
            "Get:6 http://ppa.launchpad.net/c2d4u.team/c2d4u4.0+/ubuntu focal InRelease [18.1 kB]\n",
            "Get:7 http://archive.ubuntu.com/ubuntu focal-backports InRelease [108 kB]\n",
            "Hit:8 http://ppa.launchpad.net/cran/libgit2/ubuntu focal InRelease\n",
            "Hit:9 http://ppa.launchpad.net/deadsnakes/ppa/ubuntu focal InRelease\n",
            "Hit:10 http://ppa.launchpad.net/graphics-drivers/ppa/ubuntu focal InRelease\n",
            "Hit:11 http://ppa.launchpad.net/ubuntugis/ppa/ubuntu focal InRelease\n",
            "Get:12 http://archive.ubuntu.com/ubuntu focal-updates/main amd64 Packages [3,026 kB]\n",
            "Get:13 http://ppa.launchpad.net/c2d4u.team/c2d4u4.0+/ubuntu focal/main Sources [2,403 kB]\n",
            "Get:14 http://security.ubuntu.com/ubuntu focal-security/main amd64 Packages [2,545 kB]\n",
            "Get:15 http://ppa.launchpad.net/c2d4u.team/c2d4u4.0+/ubuntu focal/main amd64 Packages [1,138 kB]\n",
            "Fetched 9,470 kB in 4s (2,207 kB/s)\n",
            "Reading package lists... Done\n"
          ]
        }
      ],
      "source": [
        "import os\n",
        "# Find the latest version of spark 3.0 from http://www.apache.org/dist/spark/ and enter as the spark version\n",
        "# For example:\n",
        "# spark_version = 'spark-3.0.3'\n",
        "spark_version = 'spark-3.2.3'\n",
        "os.environ['SPARK_VERSION']=spark_version\n",
        "\n",
        "# Install Spark and Java\n",
        "!apt-get update\n",
        "!apt-get install openjdk-11-jdk-headless -qq > /dev/null\n",
        "!wget -q http://www.apache.org/dist/spark/$SPARK_VERSION/$SPARK_VERSION-bin-hadoop2.7.tgz\n",
        "!tar xf $SPARK_VERSION-bin-hadoop2.7.tgz\n",
        "!pip install -q findspark\n",
        "\n",
        "# Set Environment Variables\n",
        "import os\n",
        "os.environ[\"JAVA_HOME\"] = \"/usr/lib/jvm/java-11-openjdk-amd64\"\n",
        "os.environ[\"SPARK_HOME\"] = f\"/content/{spark_version}-bin-hadoop2.7\"\n",
        "\n",
        "# Start a SparkSession\n",
        "import findspark\n",
        "findspark.init()"
      ]
    },
    {
      "cell_type": "code",
      "source": [
        "# Download the Postgres driver that will allow Spark to interact with Postgres.\n",
        "!wget https://jdbc.postgresql.org/download/postgresql-42.2.16.jar"
      ],
      "metadata": {
        "colab": {
          "base_uri": "https://localhost:8080/"
        },
        "id": "jEd8WaXnEQo3",
        "outputId": "99668dad-0189-40e9-fefe-39be70d40016"
      },
      "execution_count": 2,
      "outputs": [
        {
          "output_type": "stream",
          "name": "stdout",
          "text": [
            "--2023-03-22 18:59:21--  https://jdbc.postgresql.org/download/postgresql-42.2.16.jar\n",
            "Resolving jdbc.postgresql.org (jdbc.postgresql.org)... 72.32.157.228, 2001:4800:3e1:1::228\n",
            "Connecting to jdbc.postgresql.org (jdbc.postgresql.org)|72.32.157.228|:443... connected.\n",
            "HTTP request sent, awaiting response... 200 OK\n",
            "Length: 1002883 (979K) [application/java-archive]\n",
            "Saving to: ‘postgresql-42.2.16.jar’\n",
            "\n",
            "postgresql-42.2.16. 100%[===================>] 979.38K  --.-KB/s    in 0.08s   \n",
            "\n",
            "2023-03-22 18:59:21 (11.5 MB/s) - ‘postgresql-42.2.16.jar’ saved [1002883/1002883]\n",
            "\n"
          ]
        }
      ]
    },
    {
      "cell_type": "code",
      "source": [
        "# start spark session that can connect to postgre\n",
        "from pyspark.sql import SparkSession\n",
        "spark = SparkSession.builder.appName(\"final-project\").config(\"spark.driver.extraClassPath\",\"/content/postgresql-42.2.16.jar\").getOrCreate()"
      ],
      "metadata": {
        "id": "H4BovbGeEcEQ"
      },
      "execution_count": 3,
      "outputs": []
    },
    {
      "cell_type": "code",
      "source": [
        "from google.colab import drive\n",
        "drive.mount('/content/drive')"
      ],
      "metadata": {
        "colab": {
          "base_uri": "https://localhost:8080/"
        },
        "id": "3zF_gpezEe6_",
        "outputId": "2c87da8b-c321-474d-cf57-7c8bc8e6835c"
      },
      "execution_count": 4,
      "outputs": [
        {
          "output_type": "stream",
          "name": "stdout",
          "text": [
            "Mounted at /content/drive\n"
          ]
        }
      ]
    },
    {
      "cell_type": "code",
      "source": [
        "import pandas as pd\n",
        "\n",
        "cancer_path = \"/content/drive/MyDrive/data/cancer_incidence.csv\"\n",
        "\n",
        "cancer_df = pd.read_csv(cancer_path, converters={' FIPS':'{:0>5}'.format})\n",
        "\n",
        "\n",
        "cancer_df.head()"
      ],
      "metadata": {
        "colab": {
          "base_uri": "https://localhost:8080/",
          "height": 513
        },
        "id": "B8fJTdaREhxg",
        "outputId": "8a724ec4-42e2-408b-b825-1da528ca9c31"
      },
      "execution_count": 12,
      "outputs": [
        {
          "output_type": "execute_result",
          "data": {
            "text/plain": [
              "   index                         County   FIPS  \\\n",
              "0      0           US (SEER+NPCR)(1,10)  00000   \n",
              "1      1  Autauga County, Alabama(6,10)  01001   \n",
              "2      2  Baldwin County, Alabama(6,10)  01003   \n",
              "3      3  Barbour County, Alabama(6,10)  01005   \n",
              "4      4     Bibb County, Alabama(6,10)  01007   \n",
              "\n",
              "  Age-Adjusted Incidence Rate(Ê) - cases per 100,000  \\\n",
              "0                                               62.4   \n",
              "1                                               74.9   \n",
              "2                                               66.9   \n",
              "3                                               74.6   \n",
              "4                                               86.4   \n",
              "\n",
              "  Lower 95% Confidence Interval Upper 95% Confidence Interval  \\\n",
              "0                          62.3                          62.6   \n",
              "1                          65.1                          85.7   \n",
              "2                          62.4                          71.7   \n",
              "3                          61.8                          89.4   \n",
              "4                            71                         104.2   \n",
              "\n",
              "  Average Annual Count Recent Trend  \\\n",
              "0               214614      falling   \n",
              "1                   43       stable   \n",
              "2                  170       stable   \n",
              "3                   25       stable   \n",
              "4                   23       stable   \n",
              "\n",
              "  Recent 5-Year Trend (ˆ) in Incidence Rates Lower 95% Confidence Interval.1  \\\n",
              "0                                       -2.5                              -3   \n",
              "1                                        0.5                           -14.9   \n",
              "2                                          3                           -10.2   \n",
              "3                                       -6.4                           -18.3   \n",
              "4                                       -4.5                           -31.4   \n",
              "\n",
              "  Upper 95% Confidence Interval.1  \n",
              "0                              -2  \n",
              "1                            18.6  \n",
              "2                            18.3  \n",
              "3                             7.3  \n",
              "4                            32.9  "
            ],
            "text/html": [
              "\n",
              "  <div id=\"df-e2088b7d-b937-4724-8762-47ad7029968d\">\n",
              "    <div class=\"colab-df-container\">\n",
              "      <div>\n",
              "<style scoped>\n",
              "    .dataframe tbody tr th:only-of-type {\n",
              "        vertical-align: middle;\n",
              "    }\n",
              "\n",
              "    .dataframe tbody tr th {\n",
              "        vertical-align: top;\n",
              "    }\n",
              "\n",
              "    .dataframe thead th {\n",
              "        text-align: right;\n",
              "    }\n",
              "</style>\n",
              "<table border=\"1\" class=\"dataframe\">\n",
              "  <thead>\n",
              "    <tr style=\"text-align: right;\">\n",
              "      <th></th>\n",
              "      <th>index</th>\n",
              "      <th>County</th>\n",
              "      <th>FIPS</th>\n",
              "      <th>Age-Adjusted Incidence Rate(Ê) - cases per 100,000</th>\n",
              "      <th>Lower 95% Confidence Interval</th>\n",
              "      <th>Upper 95% Confidence Interval</th>\n",
              "      <th>Average Annual Count</th>\n",
              "      <th>Recent Trend</th>\n",
              "      <th>Recent 5-Year Trend (ˆ) in Incidence Rates</th>\n",
              "      <th>Lower 95% Confidence Interval.1</th>\n",
              "      <th>Upper 95% Confidence Interval.1</th>\n",
              "    </tr>\n",
              "  </thead>\n",
              "  <tbody>\n",
              "    <tr>\n",
              "      <th>0</th>\n",
              "      <td>0</td>\n",
              "      <td>US (SEER+NPCR)(1,10)</td>\n",
              "      <td>00000</td>\n",
              "      <td>62.4</td>\n",
              "      <td>62.3</td>\n",
              "      <td>62.6</td>\n",
              "      <td>214614</td>\n",
              "      <td>falling</td>\n",
              "      <td>-2.5</td>\n",
              "      <td>-3</td>\n",
              "      <td>-2</td>\n",
              "    </tr>\n",
              "    <tr>\n",
              "      <th>1</th>\n",
              "      <td>1</td>\n",
              "      <td>Autauga County, Alabama(6,10)</td>\n",
              "      <td>01001</td>\n",
              "      <td>74.9</td>\n",
              "      <td>65.1</td>\n",
              "      <td>85.7</td>\n",
              "      <td>43</td>\n",
              "      <td>stable</td>\n",
              "      <td>0.5</td>\n",
              "      <td>-14.9</td>\n",
              "      <td>18.6</td>\n",
              "    </tr>\n",
              "    <tr>\n",
              "      <th>2</th>\n",
              "      <td>2</td>\n",
              "      <td>Baldwin County, Alabama(6,10)</td>\n",
              "      <td>01003</td>\n",
              "      <td>66.9</td>\n",
              "      <td>62.4</td>\n",
              "      <td>71.7</td>\n",
              "      <td>170</td>\n",
              "      <td>stable</td>\n",
              "      <td>3</td>\n",
              "      <td>-10.2</td>\n",
              "      <td>18.3</td>\n",
              "    </tr>\n",
              "    <tr>\n",
              "      <th>3</th>\n",
              "      <td>3</td>\n",
              "      <td>Barbour County, Alabama(6,10)</td>\n",
              "      <td>01005</td>\n",
              "      <td>74.6</td>\n",
              "      <td>61.8</td>\n",
              "      <td>89.4</td>\n",
              "      <td>25</td>\n",
              "      <td>stable</td>\n",
              "      <td>-6.4</td>\n",
              "      <td>-18.3</td>\n",
              "      <td>7.3</td>\n",
              "    </tr>\n",
              "    <tr>\n",
              "      <th>4</th>\n",
              "      <td>4</td>\n",
              "      <td>Bibb County, Alabama(6,10)</td>\n",
              "      <td>01007</td>\n",
              "      <td>86.4</td>\n",
              "      <td>71</td>\n",
              "      <td>104.2</td>\n",
              "      <td>23</td>\n",
              "      <td>stable</td>\n",
              "      <td>-4.5</td>\n",
              "      <td>-31.4</td>\n",
              "      <td>32.9</td>\n",
              "    </tr>\n",
              "  </tbody>\n",
              "</table>\n",
              "</div>\n",
              "      <button class=\"colab-df-convert\" onclick=\"convertToInteractive('df-e2088b7d-b937-4724-8762-47ad7029968d')\"\n",
              "              title=\"Convert this dataframe to an interactive table.\"\n",
              "              style=\"display:none;\">\n",
              "        \n",
              "  <svg xmlns=\"http://www.w3.org/2000/svg\" height=\"24px\"viewBox=\"0 0 24 24\"\n",
              "       width=\"24px\">\n",
              "    <path d=\"M0 0h24v24H0V0z\" fill=\"none\"/>\n",
              "    <path d=\"M18.56 5.44l.94 2.06.94-2.06 2.06-.94-2.06-.94-.94-2.06-.94 2.06-2.06.94zm-11 1L8.5 8.5l.94-2.06 2.06-.94-2.06-.94L8.5 2.5l-.94 2.06-2.06.94zm10 10l.94 2.06.94-2.06 2.06-.94-2.06-.94-.94-2.06-.94 2.06-2.06.94z\"/><path d=\"M17.41 7.96l-1.37-1.37c-.4-.4-.92-.59-1.43-.59-.52 0-1.04.2-1.43.59L10.3 9.45l-7.72 7.72c-.78.78-.78 2.05 0 2.83L4 21.41c.39.39.9.59 1.41.59.51 0 1.02-.2 1.41-.59l7.78-7.78 2.81-2.81c.8-.78.8-2.07 0-2.86zM5.41 20L4 18.59l7.72-7.72 1.47 1.35L5.41 20z\"/>\n",
              "  </svg>\n",
              "      </button>\n",
              "      \n",
              "  <style>\n",
              "    .colab-df-container {\n",
              "      display:flex;\n",
              "      flex-wrap:wrap;\n",
              "      gap: 12px;\n",
              "    }\n",
              "\n",
              "    .colab-df-convert {\n",
              "      background-color: #E8F0FE;\n",
              "      border: none;\n",
              "      border-radius: 50%;\n",
              "      cursor: pointer;\n",
              "      display: none;\n",
              "      fill: #1967D2;\n",
              "      height: 32px;\n",
              "      padding: 0 0 0 0;\n",
              "      width: 32px;\n",
              "    }\n",
              "\n",
              "    .colab-df-convert:hover {\n",
              "      background-color: #E2EBFA;\n",
              "      box-shadow: 0px 1px 2px rgba(60, 64, 67, 0.3), 0px 1px 3px 1px rgba(60, 64, 67, 0.15);\n",
              "      fill: #174EA6;\n",
              "    }\n",
              "\n",
              "    [theme=dark] .colab-df-convert {\n",
              "      background-color: #3B4455;\n",
              "      fill: #D2E3FC;\n",
              "    }\n",
              "\n",
              "    [theme=dark] .colab-df-convert:hover {\n",
              "      background-color: #434B5C;\n",
              "      box-shadow: 0px 1px 3px 1px rgba(0, 0, 0, 0.15);\n",
              "      filter: drop-shadow(0px 1px 2px rgba(0, 0, 0, 0.3));\n",
              "      fill: #FFFFFF;\n",
              "    }\n",
              "  </style>\n",
              "\n",
              "      <script>\n",
              "        const buttonEl =\n",
              "          document.querySelector('#df-e2088b7d-b937-4724-8762-47ad7029968d button.colab-df-convert');\n",
              "        buttonEl.style.display =\n",
              "          google.colab.kernel.accessAllowed ? 'block' : 'none';\n",
              "\n",
              "        async function convertToInteractive(key) {\n",
              "          const element = document.querySelector('#df-e2088b7d-b937-4724-8762-47ad7029968d');\n",
              "          const dataTable =\n",
              "            await google.colab.kernel.invokeFunction('convertToInteractive',\n",
              "                                                     [key], {});\n",
              "          if (!dataTable) return;\n",
              "\n",
              "          const docLinkHtml = 'Like what you see? Visit the ' +\n",
              "            '<a target=\"_blank\" href=https://colab.research.google.com/notebooks/data_table.ipynb>data table notebook</a>'\n",
              "            + ' to learn more about interactive tables.';\n",
              "          element.innerHTML = '';\n",
              "          dataTable['output_type'] = 'display_data';\n",
              "          await google.colab.output.renderOutput(dataTable, element);\n",
              "          const docLink = document.createElement('div');\n",
              "          docLink.innerHTML = docLinkHtml;\n",
              "          element.appendChild(docLink);\n",
              "        }\n",
              "      </script>\n",
              "    </div>\n",
              "  </div>\n",
              "  "
            ]
          },
          "metadata": {},
          "execution_count": 12
        }
      ]
    },
    {
      "cell_type": "code",
      "source": [
        "# get rid of recent trend nulls (stored as *, _, __)\n",
        "\n",
        "cancer_df = cancer_df.loc[(cancer_df['Recent Trend']=='rising')|(cancer_df['Recent Trend']=='falling')|(cancer_df['Recent Trend']=='stable')]\n",
        "\n",
        "cancer_df['Recent Trend'].value_counts()"
      ],
      "metadata": {
        "colab": {
          "base_uri": "https://localhost:8080/"
        },
        "id": "CdiaCF20EosQ",
        "outputId": "c28faf6c-a466-4170-bfb3-02f54d50092c"
      },
      "execution_count": 13,
      "outputs": [
        {
          "output_type": "execute_result",
          "data": {
            "text/plain": [
              "stable     2429\n",
              "falling     200\n",
              "rising       43\n",
              "Name: Recent Trend, dtype: int64"
            ]
          },
          "metadata": {},
          "execution_count": 13
        }
      ]
    },
    {
      "cell_type": "code",
      "source": [
        "cancer_df = cancer_df[[\" FIPS\", \"Recent Trend\"]]\n",
        "cancer_df.rename(columns={' FIPS':'FIPS'}, inplace=True)"
      ],
      "metadata": {
        "colab": {
          "base_uri": "https://localhost:8080/"
        },
        "id": "DiLQhIoBqK7S",
        "outputId": "37245567-c428-46ea-9812-9c15d0b9b8fa"
      },
      "execution_count": 14,
      "outputs": [
        {
          "output_type": "stream",
          "name": "stderr",
          "text": [
            "<ipython-input-14-58b290a8d909>:2: SettingWithCopyWarning: \n",
            "A value is trying to be set on a copy of a slice from a DataFrame\n",
            "\n",
            "See the caveats in the documentation: https://pandas.pydata.org/pandas-docs/stable/user_guide/indexing.html#returning-a-view-versus-a-copy\n",
            "  cancer_df.rename(columns={' FIPS':'FIPS'}, inplace=True)\n"
          ]
        }
      ]
    },
    {
      "cell_type": "code",
      "source": [
        "cancer_df.head()"
      ],
      "metadata": {
        "colab": {
          "base_uri": "https://localhost:8080/",
          "height": 206
        },
        "id": "6ab12jDpwgwp",
        "outputId": "b5fa4e43-1a98-4c93-8d8d-3c3ba475a5a9"
      },
      "execution_count": 15,
      "outputs": [
        {
          "output_type": "execute_result",
          "data": {
            "text/plain": [
              "    FIPS Recent Trend\n",
              "0  00000      falling\n",
              "1  01001       stable\n",
              "2  01003       stable\n",
              "3  01005       stable\n",
              "4  01007       stable"
            ],
            "text/html": [
              "\n",
              "  <div id=\"df-81cb2ccd-5f2e-4bc7-a12a-e6b6bcf987b7\">\n",
              "    <div class=\"colab-df-container\">\n",
              "      <div>\n",
              "<style scoped>\n",
              "    .dataframe tbody tr th:only-of-type {\n",
              "        vertical-align: middle;\n",
              "    }\n",
              "\n",
              "    .dataframe tbody tr th {\n",
              "        vertical-align: top;\n",
              "    }\n",
              "\n",
              "    .dataframe thead th {\n",
              "        text-align: right;\n",
              "    }\n",
              "</style>\n",
              "<table border=\"1\" class=\"dataframe\">\n",
              "  <thead>\n",
              "    <tr style=\"text-align: right;\">\n",
              "      <th></th>\n",
              "      <th>FIPS</th>\n",
              "      <th>Recent Trend</th>\n",
              "    </tr>\n",
              "  </thead>\n",
              "  <tbody>\n",
              "    <tr>\n",
              "      <th>0</th>\n",
              "      <td>00000</td>\n",
              "      <td>falling</td>\n",
              "    </tr>\n",
              "    <tr>\n",
              "      <th>1</th>\n",
              "      <td>01001</td>\n",
              "      <td>stable</td>\n",
              "    </tr>\n",
              "    <tr>\n",
              "      <th>2</th>\n",
              "      <td>01003</td>\n",
              "      <td>stable</td>\n",
              "    </tr>\n",
              "    <tr>\n",
              "      <th>3</th>\n",
              "      <td>01005</td>\n",
              "      <td>stable</td>\n",
              "    </tr>\n",
              "    <tr>\n",
              "      <th>4</th>\n",
              "      <td>01007</td>\n",
              "      <td>stable</td>\n",
              "    </tr>\n",
              "  </tbody>\n",
              "</table>\n",
              "</div>\n",
              "      <button class=\"colab-df-convert\" onclick=\"convertToInteractive('df-81cb2ccd-5f2e-4bc7-a12a-e6b6bcf987b7')\"\n",
              "              title=\"Convert this dataframe to an interactive table.\"\n",
              "              style=\"display:none;\">\n",
              "        \n",
              "  <svg xmlns=\"http://www.w3.org/2000/svg\" height=\"24px\"viewBox=\"0 0 24 24\"\n",
              "       width=\"24px\">\n",
              "    <path d=\"M0 0h24v24H0V0z\" fill=\"none\"/>\n",
              "    <path d=\"M18.56 5.44l.94 2.06.94-2.06 2.06-.94-2.06-.94-.94-2.06-.94 2.06-2.06.94zm-11 1L8.5 8.5l.94-2.06 2.06-.94-2.06-.94L8.5 2.5l-.94 2.06-2.06.94zm10 10l.94 2.06.94-2.06 2.06-.94-2.06-.94-.94-2.06-.94 2.06-2.06.94z\"/><path d=\"M17.41 7.96l-1.37-1.37c-.4-.4-.92-.59-1.43-.59-.52 0-1.04.2-1.43.59L10.3 9.45l-7.72 7.72c-.78.78-.78 2.05 0 2.83L4 21.41c.39.39.9.59 1.41.59.51 0 1.02-.2 1.41-.59l7.78-7.78 2.81-2.81c.8-.78.8-2.07 0-2.86zM5.41 20L4 18.59l7.72-7.72 1.47 1.35L5.41 20z\"/>\n",
              "  </svg>\n",
              "      </button>\n",
              "      \n",
              "  <style>\n",
              "    .colab-df-container {\n",
              "      display:flex;\n",
              "      flex-wrap:wrap;\n",
              "      gap: 12px;\n",
              "    }\n",
              "\n",
              "    .colab-df-convert {\n",
              "      background-color: #E8F0FE;\n",
              "      border: none;\n",
              "      border-radius: 50%;\n",
              "      cursor: pointer;\n",
              "      display: none;\n",
              "      fill: #1967D2;\n",
              "      height: 32px;\n",
              "      padding: 0 0 0 0;\n",
              "      width: 32px;\n",
              "    }\n",
              "\n",
              "    .colab-df-convert:hover {\n",
              "      background-color: #E2EBFA;\n",
              "      box-shadow: 0px 1px 2px rgba(60, 64, 67, 0.3), 0px 1px 3px 1px rgba(60, 64, 67, 0.15);\n",
              "      fill: #174EA6;\n",
              "    }\n",
              "\n",
              "    [theme=dark] .colab-df-convert {\n",
              "      background-color: #3B4455;\n",
              "      fill: #D2E3FC;\n",
              "    }\n",
              "\n",
              "    [theme=dark] .colab-df-convert:hover {\n",
              "      background-color: #434B5C;\n",
              "      box-shadow: 0px 1px 3px 1px rgba(0, 0, 0, 0.15);\n",
              "      filter: drop-shadow(0px 1px 2px rgba(0, 0, 0, 0.3));\n",
              "      fill: #FFFFFF;\n",
              "    }\n",
              "  </style>\n",
              "\n",
              "      <script>\n",
              "        const buttonEl =\n",
              "          document.querySelector('#df-81cb2ccd-5f2e-4bc7-a12a-e6b6bcf987b7 button.colab-df-convert');\n",
              "        buttonEl.style.display =\n",
              "          google.colab.kernel.accessAllowed ? 'block' : 'none';\n",
              "\n",
              "        async function convertToInteractive(key) {\n",
              "          const element = document.querySelector('#df-81cb2ccd-5f2e-4bc7-a12a-e6b6bcf987b7');\n",
              "          const dataTable =\n",
              "            await google.colab.kernel.invokeFunction('convertToInteractive',\n",
              "                                                     [key], {});\n",
              "          if (!dataTable) return;\n",
              "\n",
              "          const docLinkHtml = 'Like what you see? Visit the ' +\n",
              "            '<a target=\"_blank\" href=https://colab.research.google.com/notebooks/data_table.ipynb>data table notebook</a>'\n",
              "            + ' to learn more about interactive tables.';\n",
              "          element.innerHTML = '';\n",
              "          dataTable['output_type'] = 'display_data';\n",
              "          await google.colab.output.renderOutput(dataTable, element);\n",
              "          const docLink = document.createElement('div');\n",
              "          docLink.innerHTML = docLinkHtml;\n",
              "          element.appendChild(docLink);\n",
              "        }\n",
              "      </script>\n",
              "    </div>\n",
              "  </div>\n",
              "  "
            ]
          },
          "metadata": {},
          "execution_count": 15
        }
      ]
    },
    {
      "cell_type": "code",
      "source": [
        "# get pm data\n",
        "\n",
        "pm_path = \"/content/drive/MyDrive/data/Daily_PM2.5_Concentrations_All_County__2001-2016.csv\"\n",
        "\n",
        "pm_df = pd.read_csv(pm_path, converters={'statefips': '{:0>2}'.format, 'countyfips': '{:0>3}'.format})\n",
        "\n",
        "pm_df.head()"
      ],
      "metadata": {
        "colab": {
          "base_uri": "https://localhost:8080/",
          "height": 270
        },
        "id": "KWpXxH1WEskw",
        "outputId": "83eb7b17-52b9-4f0e-ce1b-53c60b3d086c"
      },
      "execution_count": 16,
      "outputs": [
        {
          "output_type": "execute_result",
          "data": {
            "text/plain": [
              "   year       date statefips countyfips  PM25_max_pred  PM25_med_pred  \\\n",
              "0  2001  01JAN2001        01        001      10.664367      10.264546   \n",
              "1  2001  01JAN2001        01        003       9.803209       8.739505   \n",
              "2  2001  01JAN2001        01        005      12.087599      11.809159   \n",
              "3  2001  01JAN2001        01        007       8.579425       8.435394   \n",
              "4  2001  01JAN2001        01        009      14.399446      13.577741   \n",
              "\n",
              "   PM25_mean_pred  PM25_pop_pred  \n",
              "0       10.137631      10.188703  \n",
              "1        8.743748       8.811486  \n",
              "2       11.812775      11.802062  \n",
              "3        8.458118       8.448871  \n",
              "4       13.300528      13.231461  "
            ],
            "text/html": [
              "\n",
              "  <div id=\"df-33ed2ac2-165c-4b94-949d-fce9e5090b7f\">\n",
              "    <div class=\"colab-df-container\">\n",
              "      <div>\n",
              "<style scoped>\n",
              "    .dataframe tbody tr th:only-of-type {\n",
              "        vertical-align: middle;\n",
              "    }\n",
              "\n",
              "    .dataframe tbody tr th {\n",
              "        vertical-align: top;\n",
              "    }\n",
              "\n",
              "    .dataframe thead th {\n",
              "        text-align: right;\n",
              "    }\n",
              "</style>\n",
              "<table border=\"1\" class=\"dataframe\">\n",
              "  <thead>\n",
              "    <tr style=\"text-align: right;\">\n",
              "      <th></th>\n",
              "      <th>year</th>\n",
              "      <th>date</th>\n",
              "      <th>statefips</th>\n",
              "      <th>countyfips</th>\n",
              "      <th>PM25_max_pred</th>\n",
              "      <th>PM25_med_pred</th>\n",
              "      <th>PM25_mean_pred</th>\n",
              "      <th>PM25_pop_pred</th>\n",
              "    </tr>\n",
              "  </thead>\n",
              "  <tbody>\n",
              "    <tr>\n",
              "      <th>0</th>\n",
              "      <td>2001</td>\n",
              "      <td>01JAN2001</td>\n",
              "      <td>01</td>\n",
              "      <td>001</td>\n",
              "      <td>10.664367</td>\n",
              "      <td>10.264546</td>\n",
              "      <td>10.137631</td>\n",
              "      <td>10.188703</td>\n",
              "    </tr>\n",
              "    <tr>\n",
              "      <th>1</th>\n",
              "      <td>2001</td>\n",
              "      <td>01JAN2001</td>\n",
              "      <td>01</td>\n",
              "      <td>003</td>\n",
              "      <td>9.803209</td>\n",
              "      <td>8.739505</td>\n",
              "      <td>8.743748</td>\n",
              "      <td>8.811486</td>\n",
              "    </tr>\n",
              "    <tr>\n",
              "      <th>2</th>\n",
              "      <td>2001</td>\n",
              "      <td>01JAN2001</td>\n",
              "      <td>01</td>\n",
              "      <td>005</td>\n",
              "      <td>12.087599</td>\n",
              "      <td>11.809159</td>\n",
              "      <td>11.812775</td>\n",
              "      <td>11.802062</td>\n",
              "    </tr>\n",
              "    <tr>\n",
              "      <th>3</th>\n",
              "      <td>2001</td>\n",
              "      <td>01JAN2001</td>\n",
              "      <td>01</td>\n",
              "      <td>007</td>\n",
              "      <td>8.579425</td>\n",
              "      <td>8.435394</td>\n",
              "      <td>8.458118</td>\n",
              "      <td>8.448871</td>\n",
              "    </tr>\n",
              "    <tr>\n",
              "      <th>4</th>\n",
              "      <td>2001</td>\n",
              "      <td>01JAN2001</td>\n",
              "      <td>01</td>\n",
              "      <td>009</td>\n",
              "      <td>14.399446</td>\n",
              "      <td>13.577741</td>\n",
              "      <td>13.300528</td>\n",
              "      <td>13.231461</td>\n",
              "    </tr>\n",
              "  </tbody>\n",
              "</table>\n",
              "</div>\n",
              "      <button class=\"colab-df-convert\" onclick=\"convertToInteractive('df-33ed2ac2-165c-4b94-949d-fce9e5090b7f')\"\n",
              "              title=\"Convert this dataframe to an interactive table.\"\n",
              "              style=\"display:none;\">\n",
              "        \n",
              "  <svg xmlns=\"http://www.w3.org/2000/svg\" height=\"24px\"viewBox=\"0 0 24 24\"\n",
              "       width=\"24px\">\n",
              "    <path d=\"M0 0h24v24H0V0z\" fill=\"none\"/>\n",
              "    <path d=\"M18.56 5.44l.94 2.06.94-2.06 2.06-.94-2.06-.94-.94-2.06-.94 2.06-2.06.94zm-11 1L8.5 8.5l.94-2.06 2.06-.94-2.06-.94L8.5 2.5l-.94 2.06-2.06.94zm10 10l.94 2.06.94-2.06 2.06-.94-2.06-.94-.94-2.06-.94 2.06-2.06.94z\"/><path d=\"M17.41 7.96l-1.37-1.37c-.4-.4-.92-.59-1.43-.59-.52 0-1.04.2-1.43.59L10.3 9.45l-7.72 7.72c-.78.78-.78 2.05 0 2.83L4 21.41c.39.39.9.59 1.41.59.51 0 1.02-.2 1.41-.59l7.78-7.78 2.81-2.81c.8-.78.8-2.07 0-2.86zM5.41 20L4 18.59l7.72-7.72 1.47 1.35L5.41 20z\"/>\n",
              "  </svg>\n",
              "      </button>\n",
              "      \n",
              "  <style>\n",
              "    .colab-df-container {\n",
              "      display:flex;\n",
              "      flex-wrap:wrap;\n",
              "      gap: 12px;\n",
              "    }\n",
              "\n",
              "    .colab-df-convert {\n",
              "      background-color: #E8F0FE;\n",
              "      border: none;\n",
              "      border-radius: 50%;\n",
              "      cursor: pointer;\n",
              "      display: none;\n",
              "      fill: #1967D2;\n",
              "      height: 32px;\n",
              "      padding: 0 0 0 0;\n",
              "      width: 32px;\n",
              "    }\n",
              "\n",
              "    .colab-df-convert:hover {\n",
              "      background-color: #E2EBFA;\n",
              "      box-shadow: 0px 1px 2px rgba(60, 64, 67, 0.3), 0px 1px 3px 1px rgba(60, 64, 67, 0.15);\n",
              "      fill: #174EA6;\n",
              "    }\n",
              "\n",
              "    [theme=dark] .colab-df-convert {\n",
              "      background-color: #3B4455;\n",
              "      fill: #D2E3FC;\n",
              "    }\n",
              "\n",
              "    [theme=dark] .colab-df-convert:hover {\n",
              "      background-color: #434B5C;\n",
              "      box-shadow: 0px 1px 3px 1px rgba(0, 0, 0, 0.15);\n",
              "      filter: drop-shadow(0px 1px 2px rgba(0, 0, 0, 0.3));\n",
              "      fill: #FFFFFF;\n",
              "    }\n",
              "  </style>\n",
              "\n",
              "      <script>\n",
              "        const buttonEl =\n",
              "          document.querySelector('#df-33ed2ac2-165c-4b94-949d-fce9e5090b7f button.colab-df-convert');\n",
              "        buttonEl.style.display =\n",
              "          google.colab.kernel.accessAllowed ? 'block' : 'none';\n",
              "\n",
              "        async function convertToInteractive(key) {\n",
              "          const element = document.querySelector('#df-33ed2ac2-165c-4b94-949d-fce9e5090b7f');\n",
              "          const dataTable =\n",
              "            await google.colab.kernel.invokeFunction('convertToInteractive',\n",
              "                                                     [key], {});\n",
              "          if (!dataTable) return;\n",
              "\n",
              "          const docLinkHtml = 'Like what you see? Visit the ' +\n",
              "            '<a target=\"_blank\" href=https://colab.research.google.com/notebooks/data_table.ipynb>data table notebook</a>'\n",
              "            + ' to learn more about interactive tables.';\n",
              "          element.innerHTML = '';\n",
              "          dataTable['output_type'] = 'display_data';\n",
              "          await google.colab.output.renderOutput(dataTable, element);\n",
              "          const docLink = document.createElement('div');\n",
              "          docLink.innerHTML = docLinkHtml;\n",
              "          element.appendChild(docLink);\n",
              "        }\n",
              "      </script>\n",
              "    </div>\n",
              "  </div>\n",
              "  "
            ]
          },
          "metadata": {},
          "execution_count": 16
        }
      ]
    },
    {
      "cell_type": "code",
      "source": [
        "# filter pollution data for years matching cancer data\n",
        "pm_df = pm_df.loc[pm_df['year']<=2014]"
      ],
      "metadata": {
        "id": "yitF-f5yEwaf"
      },
      "execution_count": 17,
      "outputs": []
    },
    {
      "cell_type": "code",
      "source": [
        "# check years\n",
        "pm_df.year.unique()"
      ],
      "metadata": {
        "colab": {
          "base_uri": "https://localhost:8080/"
        },
        "id": "iLX1Z_HvE7MX",
        "outputId": "acc062e2-c9ed-45b7-914f-eeb73502b934"
      },
      "execution_count": 9,
      "outputs": [
        {
          "output_type": "execute_result",
          "data": {
            "text/plain": [
              "array([2001, 2002, 2003, 2004, 2005, 2006, 2007, 2008, 2009, 2010, 2011,\n",
              "       2012, 2013, 2014])"
            ]
          },
          "metadata": {},
          "execution_count": 9
        }
      ]
    },
    {
      "cell_type": "code",
      "source": [
        "# create state + county FIPS to match cancer data FIPS\n",
        "\n",
        "pm_df['FIPS'] = pm_df['statefips'].astype(str) + pm_df['countyfips'].astype(str)\n",
        "\n",
        "pm_df['FIPS'] = pm_df['FIPS'].astype(int)\n",
        "\n",
        "pm_df.head()"
      ],
      "metadata": {
        "colab": {
          "base_uri": "https://localhost:8080/",
          "height": 270
        },
        "id": "zRqNqgNEE9qo",
        "outputId": "5b4549a3-0d43-4b15-8727-4e3f1192a4a5"
      },
      "execution_count": 18,
      "outputs": [
        {
          "output_type": "execute_result",
          "data": {
            "text/plain": [
              "   year       date statefips countyfips  PM25_max_pred  PM25_med_pred  \\\n",
              "0  2001  01JAN2001        01        001      10.664367      10.264546   \n",
              "1  2001  01JAN2001        01        003       9.803209       8.739505   \n",
              "2  2001  01JAN2001        01        005      12.087599      11.809159   \n",
              "3  2001  01JAN2001        01        007       8.579425       8.435394   \n",
              "4  2001  01JAN2001        01        009      14.399446      13.577741   \n",
              "\n",
              "   PM25_mean_pred  PM25_pop_pred  FIPS  \n",
              "0       10.137631      10.188703  1001  \n",
              "1        8.743748       8.811486  1003  \n",
              "2       11.812775      11.802062  1005  \n",
              "3        8.458118       8.448871  1007  \n",
              "4       13.300528      13.231461  1009  "
            ],
            "text/html": [
              "\n",
              "  <div id=\"df-5a9fe610-8170-403d-8d01-ab07d92082f3\">\n",
              "    <div class=\"colab-df-container\">\n",
              "      <div>\n",
              "<style scoped>\n",
              "    .dataframe tbody tr th:only-of-type {\n",
              "        vertical-align: middle;\n",
              "    }\n",
              "\n",
              "    .dataframe tbody tr th {\n",
              "        vertical-align: top;\n",
              "    }\n",
              "\n",
              "    .dataframe thead th {\n",
              "        text-align: right;\n",
              "    }\n",
              "</style>\n",
              "<table border=\"1\" class=\"dataframe\">\n",
              "  <thead>\n",
              "    <tr style=\"text-align: right;\">\n",
              "      <th></th>\n",
              "      <th>year</th>\n",
              "      <th>date</th>\n",
              "      <th>statefips</th>\n",
              "      <th>countyfips</th>\n",
              "      <th>PM25_max_pred</th>\n",
              "      <th>PM25_med_pred</th>\n",
              "      <th>PM25_mean_pred</th>\n",
              "      <th>PM25_pop_pred</th>\n",
              "      <th>FIPS</th>\n",
              "    </tr>\n",
              "  </thead>\n",
              "  <tbody>\n",
              "    <tr>\n",
              "      <th>0</th>\n",
              "      <td>2001</td>\n",
              "      <td>01JAN2001</td>\n",
              "      <td>01</td>\n",
              "      <td>001</td>\n",
              "      <td>10.664367</td>\n",
              "      <td>10.264546</td>\n",
              "      <td>10.137631</td>\n",
              "      <td>10.188703</td>\n",
              "      <td>1001</td>\n",
              "    </tr>\n",
              "    <tr>\n",
              "      <th>1</th>\n",
              "      <td>2001</td>\n",
              "      <td>01JAN2001</td>\n",
              "      <td>01</td>\n",
              "      <td>003</td>\n",
              "      <td>9.803209</td>\n",
              "      <td>8.739505</td>\n",
              "      <td>8.743748</td>\n",
              "      <td>8.811486</td>\n",
              "      <td>1003</td>\n",
              "    </tr>\n",
              "    <tr>\n",
              "      <th>2</th>\n",
              "      <td>2001</td>\n",
              "      <td>01JAN2001</td>\n",
              "      <td>01</td>\n",
              "      <td>005</td>\n",
              "      <td>12.087599</td>\n",
              "      <td>11.809159</td>\n",
              "      <td>11.812775</td>\n",
              "      <td>11.802062</td>\n",
              "      <td>1005</td>\n",
              "    </tr>\n",
              "    <tr>\n",
              "      <th>3</th>\n",
              "      <td>2001</td>\n",
              "      <td>01JAN2001</td>\n",
              "      <td>01</td>\n",
              "      <td>007</td>\n",
              "      <td>8.579425</td>\n",
              "      <td>8.435394</td>\n",
              "      <td>8.458118</td>\n",
              "      <td>8.448871</td>\n",
              "      <td>1007</td>\n",
              "    </tr>\n",
              "    <tr>\n",
              "      <th>4</th>\n",
              "      <td>2001</td>\n",
              "      <td>01JAN2001</td>\n",
              "      <td>01</td>\n",
              "      <td>009</td>\n",
              "      <td>14.399446</td>\n",
              "      <td>13.577741</td>\n",
              "      <td>13.300528</td>\n",
              "      <td>13.231461</td>\n",
              "      <td>1009</td>\n",
              "    </tr>\n",
              "  </tbody>\n",
              "</table>\n",
              "</div>\n",
              "      <button class=\"colab-df-convert\" onclick=\"convertToInteractive('df-5a9fe610-8170-403d-8d01-ab07d92082f3')\"\n",
              "              title=\"Convert this dataframe to an interactive table.\"\n",
              "              style=\"display:none;\">\n",
              "        \n",
              "  <svg xmlns=\"http://www.w3.org/2000/svg\" height=\"24px\"viewBox=\"0 0 24 24\"\n",
              "       width=\"24px\">\n",
              "    <path d=\"M0 0h24v24H0V0z\" fill=\"none\"/>\n",
              "    <path d=\"M18.56 5.44l.94 2.06.94-2.06 2.06-.94-2.06-.94-.94-2.06-.94 2.06-2.06.94zm-11 1L8.5 8.5l.94-2.06 2.06-.94-2.06-.94L8.5 2.5l-.94 2.06-2.06.94zm10 10l.94 2.06.94-2.06 2.06-.94-2.06-.94-.94-2.06-.94 2.06-2.06.94z\"/><path d=\"M17.41 7.96l-1.37-1.37c-.4-.4-.92-.59-1.43-.59-.52 0-1.04.2-1.43.59L10.3 9.45l-7.72 7.72c-.78.78-.78 2.05 0 2.83L4 21.41c.39.39.9.59 1.41.59.51 0 1.02-.2 1.41-.59l7.78-7.78 2.81-2.81c.8-.78.8-2.07 0-2.86zM5.41 20L4 18.59l7.72-7.72 1.47 1.35L5.41 20z\"/>\n",
              "  </svg>\n",
              "      </button>\n",
              "      \n",
              "  <style>\n",
              "    .colab-df-container {\n",
              "      display:flex;\n",
              "      flex-wrap:wrap;\n",
              "      gap: 12px;\n",
              "    }\n",
              "\n",
              "    .colab-df-convert {\n",
              "      background-color: #E8F0FE;\n",
              "      border: none;\n",
              "      border-radius: 50%;\n",
              "      cursor: pointer;\n",
              "      display: none;\n",
              "      fill: #1967D2;\n",
              "      height: 32px;\n",
              "      padding: 0 0 0 0;\n",
              "      width: 32px;\n",
              "    }\n",
              "\n",
              "    .colab-df-convert:hover {\n",
              "      background-color: #E2EBFA;\n",
              "      box-shadow: 0px 1px 2px rgba(60, 64, 67, 0.3), 0px 1px 3px 1px rgba(60, 64, 67, 0.15);\n",
              "      fill: #174EA6;\n",
              "    }\n",
              "\n",
              "    [theme=dark] .colab-df-convert {\n",
              "      background-color: #3B4455;\n",
              "      fill: #D2E3FC;\n",
              "    }\n",
              "\n",
              "    [theme=dark] .colab-df-convert:hover {\n",
              "      background-color: #434B5C;\n",
              "      box-shadow: 0px 1px 3px 1px rgba(0, 0, 0, 0.15);\n",
              "      filter: drop-shadow(0px 1px 2px rgba(0, 0, 0, 0.3));\n",
              "      fill: #FFFFFF;\n",
              "    }\n",
              "  </style>\n",
              "\n",
              "      <script>\n",
              "        const buttonEl =\n",
              "          document.querySelector('#df-5a9fe610-8170-403d-8d01-ab07d92082f3 button.colab-df-convert');\n",
              "        buttonEl.style.display =\n",
              "          google.colab.kernel.accessAllowed ? 'block' : 'none';\n",
              "\n",
              "        async function convertToInteractive(key) {\n",
              "          const element = document.querySelector('#df-5a9fe610-8170-403d-8d01-ab07d92082f3');\n",
              "          const dataTable =\n",
              "            await google.colab.kernel.invokeFunction('convertToInteractive',\n",
              "                                                     [key], {});\n",
              "          if (!dataTable) return;\n",
              "\n",
              "          const docLinkHtml = 'Like what you see? Visit the ' +\n",
              "            '<a target=\"_blank\" href=https://colab.research.google.com/notebooks/data_table.ipynb>data table notebook</a>'\n",
              "            + ' to learn more about interactive tables.';\n",
              "          element.innerHTML = '';\n",
              "          dataTable['output_type'] = 'display_data';\n",
              "          await google.colab.output.renderOutput(dataTable, element);\n",
              "          const docLink = document.createElement('div');\n",
              "          docLink.innerHTML = docLinkHtml;\n",
              "          element.appendChild(docLink);\n",
              "        }\n",
              "      </script>\n",
              "    </div>\n",
              "  </div>\n",
              "  "
            ]
          },
          "metadata": {},
          "execution_count": 18
        }
      ]
    },
    {
      "cell_type": "code",
      "source": [
        "pm_df = pm_df[['year','date','PM25_max_pred','PM25_med_pred', 'PM25_mean_pred','PM25_pop_pred', 'FIPS']]"
      ],
      "metadata": {
        "id": "qs6EJh54rjWn"
      },
      "execution_count": 19,
      "outputs": []
    },
    {
      "cell_type": "code",
      "source": [
        "len(pm_df)"
      ],
      "metadata": {
        "colab": {
          "base_uri": "https://localhost:8080/"
        },
        "id": "aWVbjIWyiIYb",
        "outputId": "8d5ed659-eb5e-407c-abae-bb23e0791687"
      },
      "execution_count": 20,
      "outputs": [
        {
          "output_type": "execute_result",
          "data": {
            "text/plain": [
              "15896317"
            ]
          },
          "metadata": {},
          "execution_count": 20
        }
      ]
    },
    {
      "cell_type": "code",
      "source": [
        "pm_df.plot(x='FIPS', y='PM25_max_pred', kind='scatter')"
      ],
      "metadata": {
        "colab": {
          "base_uri": "https://localhost:8080/",
          "height": 351
        },
        "id": "nNitbISDiMlr",
        "outputId": "32329264-858e-41c7-9c20-dc037f5f16fb"
      },
      "execution_count": 12,
      "outputs": [
        {
          "output_type": "stream",
          "name": "stderr",
          "text": [
            "/usr/local/lib/python3.9/dist-packages/pandas/plotting/_matplotlib/core.py:1114: UserWarning: No data for colormapping provided via 'c'. Parameters 'cmap' will be ignored\n",
            "  scatter = ax.scatter(\n"
          ]
        },
        {
          "output_type": "execute_result",
          "data": {
            "text/plain": [
              "<Axes: xlabel='FIPS', ylabel='PM25_max_pred'>"
            ]
          },
          "metadata": {},
          "execution_count": 12
        },
        {
          "output_type": "display_data",
          "data": {
            "text/plain": [
              "<Figure size 432x288 with 1 Axes>"
            ],
            "image/png": "[encoded data removed]"
          },
          "metadata": {
            "needs_background": "light"
          }
        }
      ]
    },
    {
      "cell_type": "code",
      "source": [
        "cancer_df.dtypes"
      ],
      "metadata": {
        "colab": {
          "base_uri": "https://localhost:8080/"
        },
        "id": "uaDL09mk7Gt0",
        "outputId": "b06a4ecd-e306-419d-a957-342df0f656c2"
      },
      "execution_count": 13,
      "outputs": [
        {
          "output_type": "execute_result",
          "data": {
            "text/plain": [
              "index                                                  int64\n",
              "County                                                object\n",
              " FIPS                                                 object\n",
              "Age-Adjusted Incidence Rate(Ê) - cases per 100,000    object\n",
              "Lower 95% Confidence Interval                         object\n",
              "Upper 95% Confidence Interval                         object\n",
              "Average Annual Count                                  object\n",
              "Recent Trend                                          object\n",
              "Recent 5-Year Trend (ˆ) in Incidence Rates            object\n",
              "Lower 95% Confidence Interval.1                       object\n",
              "Upper 95% Confidence Interval.1                       object\n",
              "dtype: object"
            ]
          },
          "metadata": {},
          "execution_count": 13
        }
      ]
    },
    {
      "cell_type": "code",
      "source": [
        "cancer_df[\"FIPS\"] = pd.to_numeric(cancer_df[\"FIPS\"])"
      ],
      "metadata": {
        "id": "qSX067fx7dvA"
      },
      "execution_count": 21,
      "outputs": []
    },
    {
      "cell_type": "code",
      "source": [
        "cancer_df.dtypes"
      ],
      "metadata": {
        "colab": {
          "base_uri": "https://localhost:8080/"
        },
        "id": "_Yi9r0R27muR",
        "outputId": "b58e1ee9-2b61-4a52-9913-728211cd16a0"
      },
      "execution_count": 13,
      "outputs": [
        {
          "output_type": "execute_result",
          "data": {
            "text/plain": [
              "index                                                  int64\n",
              "County                                                object\n",
              " FIPS                                                  int64\n",
              "Age-Adjusted Incidence Rate(Ê) - cases per 100,000    object\n",
              "Lower 95% Confidence Interval                         object\n",
              "Upper 95% Confidence Interval                         object\n",
              "Average Annual Count                                  object\n",
              "Recent Trend                                          object\n",
              "Recent 5-Year Trend (ˆ) in Incidence Rates            object\n",
              "Lower 95% Confidence Interval.1                       object\n",
              "Upper 95% Confidence Interval.1                       object\n",
              "dtype: object"
            ]
          },
          "metadata": {},
          "execution_count": 13
        }
      ]
    },
    {
      "cell_type": "code",
      "source": [
        "pm_df.dtypes"
      ],
      "metadata": {
        "colab": {
          "base_uri": "https://localhost:8080/"
        },
        "id": "4IUFRfm76-dM",
        "outputId": "e9a1ebed-4801-4167-e2bf-5e9abe2ee8c4"
      },
      "execution_count": 14,
      "outputs": [
        {
          "output_type": "execute_result",
          "data": {
            "text/plain": [
              "year                int64\n",
              "date               object\n",
              "statefips          object\n",
              "countyfips         object\n",
              "PM25_max_pred     float64\n",
              "PM25_med_pred     float64\n",
              "PM25_mean_pred    float64\n",
              "PM25_pop_pred     float64\n",
              "FIPS                int64\n",
              "dtype: object"
            ]
          },
          "metadata": {},
          "execution_count": 14
        }
      ]
    },
    {
      "cell_type": "code",
      "source": [
        "# merge cancer and pollution data to get only PM data that matches cancer dataset for EDA analysis\n",
        "\n",
        "df = pd.merge(cancer_df, pm_df, how='inner', left_on='FIPS', right_on='FIPS')\n",
        "\n",
        "df.head()"
      ],
      "metadata": {
        "colab": {
          "base_uri": "https://localhost:8080/",
          "height": 268
        },
        "id": "0agpQdrcFAb_",
        "outputId": "14a98634-f636-4300-c29a-4377a4283ca2"
      },
      "execution_count": 22,
      "outputs": [
        {
          "output_type": "execute_result",
          "data": {
            "text/plain": [
              "   FIPS Recent Trend  year       date  PM25_max_pred  PM25_med_pred  \\\n",
              "0  1001       stable  2001  01JAN2001      10.664367      10.264546   \n",
              "1  1001       stable  2001  02JAN2001      16.231592      15.633819   \n",
              "2  1001       stable  2001  03JAN2001      13.596008      13.253824   \n",
              "3  1001       stable  2001  04JAN2001      14.943486      14.338261   \n",
              "4  1001       stable  2001  05JAN2001      14.890886      14.218863   \n",
              "\n",
              "   PM25_mean_pred  PM25_pop_pred  \n",
              "0       10.137631      10.188703  \n",
              "1       15.660848      15.720587  \n",
              "2       13.247680      13.249806  \n",
              "3       14.287608      14.347044  \n",
              "4       14.236373      14.272212  "
            ],
            "text/html": [
              "\n",
              "  <div id=\"df-c373fb2a-d5ae-45ba-983b-f3c05e9128e9\">\n",
              "    <div class=\"colab-df-container\">\n",
              "      <div>\n",
              "<style scoped>\n",
              "    .dataframe tbody tr th:only-of-type {\n",
              "        vertical-align: middle;\n",
              "    }\n",
              "\n",
              "    .dataframe tbody tr th {\n",
              "        vertical-align: top;\n",
              "    }\n",
              "\n",
              "    .dataframe thead th {\n",
              "        text-align: right;\n",
              "    }\n",
              "</style>\n",
              "<table border=\"1\" class=\"dataframe\">\n",
              "  <thead>\n",
              "    <tr style=\"text-align: right;\">\n",
              "      <th></th>\n",
              "      <th>FIPS</th>\n",
              "      <th>Recent Trend</th>\n",
              "      <th>year</th>\n",
              "      <th>date</th>\n",
              "      <th>PM25_max_pred</th>\n",
              "      <th>PM25_med_pred</th>\n",
              "      <th>PM25_mean_pred</th>\n",
              "      <th>PM25_pop_pred</th>\n",
              "    </tr>\n",
              "  </thead>\n",
              "  <tbody>\n",
              "    <tr>\n",
              "      <th>0</th>\n",
              "      <td>1001</td>\n",
              "      <td>stable</td>\n",
              "      <td>2001</td>\n",
              "      <td>01JAN2001</td>\n",
              "      <td>10.664367</td>\n",
              "      <td>10.264546</td>\n",
              "      <td>10.137631</td>\n",
              "      <td>10.188703</td>\n",
              "    </tr>\n",
              "    <tr>\n",
              "      <th>1</th>\n",
              "      <td>1001</td>\n",
              "      <td>stable</td>\n",
              "      <td>2001</td>\n",
              "      <td>02JAN2001</td>\n",
              "      <td>16.231592</td>\n",
              "      <td>15.633819</td>\n",
              "      <td>15.660848</td>\n",
              "      <td>15.720587</td>\n",
              "    </tr>\n",
              "    <tr>\n",
              "      <th>2</th>\n",
              "      <td>1001</td>\n",
              "      <td>stable</td>\n",
              "      <td>2001</td>\n",
              "      <td>03JAN2001</td>\n",
              "      <td>13.596008</td>\n",
              "      <td>13.253824</td>\n",
              "      <td>13.247680</td>\n",
              "      <td>13.249806</td>\n",
              "    </tr>\n",
              "    <tr>\n",
              "      <th>3</th>\n",
              "      <td>1001</td>\n",
              "      <td>stable</td>\n",
              "      <td>2001</td>\n",
              "      <td>04JAN2001</td>\n",
              "      <td>14.943486</td>\n",
              "      <td>14.338261</td>\n",
              "      <td>14.287608</td>\n",
              "      <td>14.347044</td>\n",
              "    </tr>\n",
              "    <tr>\n",
              "      <th>4</th>\n",
              "      <td>1001</td>\n",
              "      <td>stable</td>\n",
              "      <td>2001</td>\n",
              "      <td>05JAN2001</td>\n",
              "      <td>14.890886</td>\n",
              "      <td>14.218863</td>\n",
              "      <td>14.236373</td>\n",
              "      <td>14.272212</td>\n",
              "    </tr>\n",
              "  </tbody>\n",
              "</table>\n",
              "</div>\n",
              "      <button class=\"colab-df-convert\" onclick=\"convertToInteractive('df-c373fb2a-d5ae-45ba-983b-f3c05e9128e9')\"\n",
              "              title=\"Convert this dataframe to an interactive table.\"\n",
              "              style=\"display:none;\">\n",
              "        \n",
              "  <svg xmlns=\"http://www.w3.org/2000/svg\" height=\"24px\"viewBox=\"0 0 24 24\"\n",
              "       width=\"24px\">\n",
              "    <path d=\"M0 0h24v24H0V0z\" fill=\"none\"/>\n",
              "    <path d=\"M18.56 5.44l.94 2.06.94-2.06 2.06-.94-2.06-.94-.94-2.06-.94 2.06-2.06.94zm-11 1L8.5 8.5l.94-2.06 2.06-.94-2.06-.94L8.5 2.5l-.94 2.06-2.06.94zm10 10l.94 2.06.94-2.06 2.06-.94-2.06-.94-.94-2.06-.94 2.06-2.06.94z\"/><path d=\"M17.41 7.96l-1.37-1.37c-.4-.4-.92-.59-1.43-.59-.52 0-1.04.2-1.43.59L10.3 9.45l-7.72 7.72c-.78.78-.78 2.05 0 2.83L4 21.41c.39.39.9.59 1.41.59.51 0 1.02-.2 1.41-.59l7.78-7.78 2.81-2.81c.8-.78.8-2.07 0-2.86zM5.41 20L4 18.59l7.72-7.72 1.47 1.35L5.41 20z\"/>\n",
              "  </svg>\n",
              "      </button>\n",
              "      \n",
              "  <style>\n",
              "    .colab-df-container {\n",
              "      display:flex;\n",
              "      flex-wrap:wrap;\n",
              "      gap: 12px;\n",
              "    }\n",
              "\n",
              "    .colab-df-convert {\n",
              "      background-color: #E8F0FE;\n",
              "      border: none;\n",
              "      border-radius: 50%;\n",
              "      cursor: pointer;\n",
              "      display: none;\n",
              "      fill: #1967D2;\n",
              "      height: 32px;\n",
              "      padding: 0 0 0 0;\n",
              "      width: 32px;\n",
              "    }\n",
              "\n",
              "    .colab-df-convert:hover {\n",
              "      background-color: #E2EBFA;\n",
              "      box-shadow: 0px 1px 2px rgba(60, 64, 67, 0.3), 0px 1px 3px 1px rgba(60, 64, 67, 0.15);\n",
              "      fill: #174EA6;\n",
              "    }\n",
              "\n",
              "    [theme=dark] .colab-df-convert {\n",
              "      background-color: #3B4455;\n",
              "      fill: #D2E3FC;\n",
              "    }\n",
              "\n",
              "    [theme=dark] .colab-df-convert:hover {\n",
              "      background-color: #434B5C;\n",
              "      box-shadow: 0px 1px 3px 1px rgba(0, 0, 0, 0.15);\n",
              "      filter: drop-shadow(0px 1px 2px rgba(0, 0, 0, 0.3));\n",
              "      fill: #FFFFFF;\n",
              "    }\n",
              "  </style>\n",
              "\n",
              "      <script>\n",
              "        const buttonEl =\n",
              "          document.querySelector('#df-c373fb2a-d5ae-45ba-983b-f3c05e9128e9 button.colab-df-convert');\n",
              "        buttonEl.style.display =\n",
              "          google.colab.kernel.accessAllowed ? 'block' : 'none';\n",
              "\n",
              "        async function convertToInteractive(key) {\n",
              "          const element = document.querySelector('#df-c373fb2a-d5ae-45ba-983b-f3c05e9128e9');\n",
              "          const dataTable =\n",
              "            await google.colab.kernel.invokeFunction('convertToInteractive',\n",
              "                                                     [key], {});\n",
              "          if (!dataTable) return;\n",
              "\n",
              "          const docLinkHtml = 'Like what you see? Visit the ' +\n",
              "            '<a target=\"_blank\" href=https://colab.research.google.com/notebooks/data_table.ipynb>data table notebook</a>'\n",
              "            + ' to learn more about interactive tables.';\n",
              "          element.innerHTML = '';\n",
              "          dataTable['output_type'] = 'display_data';\n",
              "          await google.colab.output.renderOutput(dataTable, element);\n",
              "          const docLink = document.createElement('div');\n",
              "          docLink.innerHTML = docLinkHtml;\n",
              "          element.appendChild(docLink);\n",
              "        }\n",
              "      </script>\n",
              "    </div>\n",
              "  </div>\n",
              "  "
            ]
          },
          "metadata": {},
          "execution_count": 22
        }
      ]
    },
    {
      "cell_type": "code",
      "source": [
        "# get row count\n",
        "len(df)"
      ],
      "metadata": {
        "colab": {
          "base_uri": "https://localhost:8080/"
        },
        "id": "p2fBy2EpFSgK",
        "outputId": "6ce58bed-0c9c-42ea-d718-049b092fe8c1"
      },
      "execution_count": 24,
      "outputs": [
        {
          "output_type": "execute_result",
          "data": {
            "text/plain": [
              "13554563"
            ]
          },
          "metadata": {},
          "execution_count": 24
        }
      ]
    },
    {
      "cell_type": "code",
      "source": [],
      "metadata": {
        "id": "B5LKx24do1b3"
      },
      "execution_count": null,
      "outputs": []
    },
    {
      "cell_type": "code",
      "source": [
        "df.plot(x='FIPS', y='PM25_max_pred', kind='scatter')"
      ],
      "metadata": {
        "id": "u--mUrNuGZRh",
        "colab": {
          "base_uri": "https://localhost:8080/",
          "height": 351
        },
        "outputId": "97be0bad-8d20-4f13-c00b-73c28b214b02"
      },
      "execution_count": 25,
      "outputs": [
        {
          "output_type": "stream",
          "name": "stderr",
          "text": [
            "/usr/local/lib/python3.9/dist-packages/pandas/plotting/_matplotlib/core.py:1114: UserWarning: No data for colormapping provided via 'c'. Parameters 'cmap' will be ignored\n",
            "  scatter = ax.scatter(\n"
          ]
        },
        {
          "output_type": "execute_result",
          "data": {
            "text/plain": [
              "<Axes: xlabel='FIPS', ylabel='PM25_max_pred'>"
            ]
          },
          "metadata": {},
          "execution_count": 25
        },
        {
          "output_type": "display_data",
          "data": {
            "text/plain": [
              "<Figure size 432x288 with 1 Axes>"
            ],
            "image/png": "[encoded data removed]"
          },
          "metadata": {
            "needs_background": "light"
          }
        }
      ]
    },
    {
      "cell_type": "code",
      "source": [
        "# get count of unique FIPS\n",
        "df.FIPS.nunique()"
      ],
      "metadata": {
        "colab": {
          "base_uri": "https://localhost:8080/"
        },
        "id": "YueIcLAVFbV6",
        "outputId": "ca0562e4-5030-4c35-a73d-99053b0d1ec9"
      },
      "execution_count": 26,
      "outputs": [
        {
          "output_type": "execute_result",
          "data": {
            "text/plain": [
              "2651"
            ]
          },
          "metadata": {},
          "execution_count": 26
        }
      ]
    },
    {
      "cell_type": "code",
      "source": [
        "# stats for max pred\n",
        "pd.options.display.float_format = '{:20,.2f}'.format\n",
        "\n",
        "df.PM25_max_pred.describe()"
      ],
      "metadata": {
        "colab": {
          "base_uri": "https://localhost:8080/"
        },
        "id": "KdEv9-T6FfTa",
        "outputId": "326466dc-1620-42c4-ec24-ad8d725ce0c9"
      },
      "execution_count": 27,
      "outputs": [
        {
          "output_type": "execute_result",
          "data": {
            "text/plain": [
              "count          13,554,563.00\n",
              "mean                   10.68\n",
              "std                     5.68\n",
              "min                     0.16\n",
              "25%                     6.77\n",
              "50%                     9.44\n",
              "75%                    13.19\n",
              "max                   491.53\n",
              "Name: PM25_max_pred, dtype: float64"
            ]
          },
          "metadata": {},
          "execution_count": 27
        }
      ]
    },
    {
      "cell_type": "code",
      "source": [
        "# stats for med pred\n",
        "df.PM25_med_pred.describe()"
      ],
      "metadata": {
        "colab": {
          "base_uri": "https://localhost:8080/"
        },
        "id": "c6kqE1VuFtAC",
        "outputId": "5c300692-261c-4142-9813-c745bd87794c"
      },
      "execution_count": 28,
      "outputs": [
        {
          "output_type": "execute_result",
          "data": {
            "text/plain": [
              "count          13,554,563.00\n",
              "mean                   10.21\n",
              "std                     5.39\n",
              "min                     0.09\n",
              "25%                     6.47\n",
              "50%                     9.05\n",
              "75%                    12.64\n",
              "max                   335.28\n",
              "Name: PM25_med_pred, dtype: float64"
            ]
          },
          "metadata": {},
          "execution_count": 28
        }
      ]
    },
    {
      "cell_type": "code",
      "source": [
        "df.plot(x='FIPS', y='PM25_med_pred', kind='scatter')"
      ],
      "metadata": {
        "colab": {
          "base_uri": "https://localhost:8080/",
          "height": 354
        },
        "id": "LUE1Lj_WHI-8",
        "outputId": "bb5e05fe-ef6f-4445-9249-8decfbff5395"
      },
      "execution_count": 29,
      "outputs": [
        {
          "output_type": "stream",
          "name": "stderr",
          "text": [
            "/usr/local/lib/python3.9/dist-packages/pandas/plotting/_matplotlib/core.py:1114: UserWarning: No data for colormapping provided via 'c'. Parameters 'cmap' will be ignored\n",
            "  scatter = ax.scatter(\n"
          ]
        },
        {
          "output_type": "execute_result",
          "data": {
            "text/plain": [
              "<Axes: xlabel='FIPS', ylabel='PM25_med_pred'>"
            ]
          },
          "metadata": {},
          "execution_count": 29
        },
        {
          "output_type": "display_data",
          "data": {
            "text/plain": [
              "<Figure size 432x288 with 1 Axes>"
            ],
            "image/png": "[encoded data removed]"
          },
          "metadata": {
            "needs_background": "light"
          }
        }
      ]
    },
    {
      "cell_type": "code",
      "source": [
        "# stats for mean pred\n",
        "df.PM25_mean_pred.describe()"
      ],
      "metadata": {
        "colab": {
          "base_uri": "https://localhost:8080/"
        },
        "id": "0vmDMETVGCvy",
        "outputId": "30a85afb-8ace-4204-a17b-d465229b1f4e"
      },
      "execution_count": 30,
      "outputs": [
        {
          "output_type": "execute_result",
          "data": {
            "text/plain": [
              "count          13,554,563.00\n",
              "mean                   10.19\n",
              "std                     5.37\n",
              "min                     0.10\n",
              "25%                     6.46\n",
              "50%                     9.04\n",
              "75%                    12.63\n",
              "max                   385.23\n",
              "Name: PM25_mean_pred, dtype: float64"
            ]
          },
          "metadata": {},
          "execution_count": 30
        }
      ]
    },
    {
      "cell_type": "code",
      "source": [
        "df.plot(x='FIPS', y='PM25_mean_pred', kind='scatter')"
      ],
      "metadata": {
        "colab": {
          "base_uri": "https://localhost:8080/",
          "height": 353
        },
        "id": "G05EtlgoHQUh",
        "outputId": "ff0a36b0-b5fe-4b53-b23b-28503c389f2a"
      },
      "execution_count": 31,
      "outputs": [
        {
          "output_type": "stream",
          "name": "stderr",
          "text": [
            "/usr/local/lib/python3.9/dist-packages/pandas/plotting/_matplotlib/core.py:1114: UserWarning: No data for colormapping provided via 'c'. Parameters 'cmap' will be ignored\n",
            "  scatter = ax.scatter(\n"
          ]
        },
        {
          "output_type": "execute_result",
          "data": {
            "text/plain": [
              "<Axes: xlabel='FIPS', ylabel='PM25_mean_pred'>"
            ]
          },
          "metadata": {},
          "execution_count": 31
        },
        {
          "output_type": "display_data",
          "data": {
            "text/plain": [
              "<Figure size 432x288 with 1 Axes>"
            ],
            "image/png": "[encoded data removed]"
          },
          "metadata": {
            "needs_background": "light"
          }
        }
      ]
    },
    {
      "cell_type": "code",
      "source": [
        "# stats for pop pred\n",
        "df.PM25_pop_pred.describe()"
      ],
      "metadata": {
        "colab": {
          "base_uri": "https://localhost:8080/"
        },
        "id": "npAHjFBtGJZa",
        "outputId": "41e61ed5-825c-446c-9ad8-8e31fe59893a"
      },
      "execution_count": 32,
      "outputs": [
        {
          "output_type": "execute_result",
          "data": {
            "text/plain": [
              "count          13,554,563.00\n",
              "mean                   10.20\n",
              "std                     5.38\n",
              "min                     0.10\n",
              "25%                     6.46\n",
              "50%                     9.04\n",
              "75%                    12.63\n",
              "max                   382.66\n",
              "Name: PM25_pop_pred, dtype: float64"
            ]
          },
          "metadata": {},
          "execution_count": 32
        }
      ]
    },
    {
      "cell_type": "code",
      "source": [
        "df.plot(x='FIPS', y='PM25_pop_pred', kind='scatter')"
      ],
      "metadata": {
        "colab": {
          "base_uri": "https://localhost:8080/",
          "height": 354
        },
        "id": "AlqB3Z11GMAS",
        "outputId": "a7fff967-e721-4f69-8c10-488a0f7d798c"
      },
      "execution_count": 33,
      "outputs": [
        {
          "output_type": "stream",
          "name": "stderr",
          "text": [
            "/usr/local/lib/python3.9/dist-packages/pandas/plotting/_matplotlib/core.py:1114: UserWarning: No data for colormapping provided via 'c'. Parameters 'cmap' will be ignored\n",
            "  scatter = ax.scatter(\n"
          ]
        },
        {
          "output_type": "execute_result",
          "data": {
            "text/plain": [
              "<Axes: xlabel='FIPS', ylabel='PM25_pop_pred'>"
            ]
          },
          "metadata": {},
          "execution_count": 33
        },
        {
          "output_type": "display_data",
          "data": {
            "text/plain": [
              "<Figure size 432x288 with 1 Axes>"
            ],
            "image/png": "[encoded data removed]"
          },
          "metadata": {
            "needs_background": "light"
          }
        }
      ]
    },
    {
      "cell_type": "code",
      "source": [
        "# investigate high PM FIPS\n",
        "\n",
        "hi_df = df[(df['FIPS']>10000)&(df['FIPS']<31000)]"
      ],
      "metadata": {
        "id": "tg3OciPEHaaw"
      },
      "execution_count": 34,
      "outputs": []
    },
    {
      "cell_type": "code",
      "source": [
        "hi_df.plot(x='FIPS', y='PM25_med_pred', kind='scatter')"
      ],
      "metadata": {
        "colab": {
          "base_uri": "https://localhost:8080/",
          "height": 299
        },
        "id": "FrILK5gZHp84",
        "outputId": "10ff3a94-5b6c-4f40-c4fe-75bae0bf998f"
      },
      "execution_count": 35,
      "outputs": [
        {
          "output_type": "execute_result",
          "data": {
            "text/plain": [
              "<Axes: xlabel='FIPS', ylabel='PM25_med_pred'>"
            ]
          },
          "metadata": {},
          "execution_count": 35
        },
        {
          "output_type": "display_data",
          "data": {
            "text/plain": [
              "<Figure size 432x288 with 1 Axes>"
            ],
            "image/png": "[encoded data removed]"
          },
          "metadata": {
            "needs_background": "light"
          }
        }
      ]
    },
    {
      "cell_type": "code",
      "source": [
        "more_hi_df = hi_df[hi_df['FIPS']<29300]"
      ],
      "metadata": {
        "id": "mzg4pxrCHuLI"
      },
      "execution_count": 36,
      "outputs": []
    },
    {
      "cell_type": "code",
      "source": [
        "more_hi_df.plot(x='FIPS', y='PM25_med_pred', kind='scatter')"
      ],
      "metadata": {
        "colab": {
          "base_uri": "https://localhost:8080/",
          "height": 299
        },
        "id": "By-2EFLzILeH",
        "outputId": "b00da181-8180-4109-e357-513564715009"
      },
      "execution_count": 37,
      "outputs": [
        {
          "output_type": "execute_result",
          "data": {
            "text/plain": [
              "<Axes: xlabel='FIPS', ylabel='PM25_med_pred'>"
            ]
          },
          "metadata": {},
          "execution_count": 37
        },
        {
          "output_type": "display_data",
          "data": {
            "text/plain": [
              "<Figure size 432x288 with 1 Axes>"
            ],
            "image/png": "[encoded data removed]"
          },
          "metadata": {
            "needs_background": "light"
          }
        }
      ]
    },
    {
      "cell_type": "code",
      "source": [
        "# identify top values\n",
        "\n",
        "more_hi_df.sort_values('PM25_med_pred', ascending=False)"
      ],
      "metadata": {
        "colab": {
          "base_uri": "https://localhost:8080/",
          "height": 505
        },
        "id": "bqAzLWAbINW_",
        "outputId": "f069270e-4546-48e7-a474-179b95bb1051"
      },
      "execution_count": 38,
      "outputs": [
        {
          "output_type": "execute_result",
          "data": {
            "text/plain": [
              "          FIPS Recent Trend  year       date        PM25_max_pred  \\\n",
              "6478426  29125       stable  2001  13SEP2001               491.53   \n",
              "6544895  29151       stable  2001  13SEP2001               428.69   \n",
              "6345488  29073      falling  2001  13SEP2001               385.53   \n",
              "6570460  29161       stable  2001  13SEP2001               334.58   \n",
              "6299471  29055       stable  2001  13SEP2001               309.95   \n",
              "...        ...          ...   ...        ...                  ...   \n",
              "2606608  16079       stable  2012  15MAR2012                 0.34   \n",
              "5082111  23009       stable  2014  04JUN2014                 0.55   \n",
              "5107676  23019       stable  2014  04JUN2014                 1.27   \n",
              "5302111  25015       stable  2014  23OCT2014                 0.38   \n",
              "5296998  25013       stable  2014  23OCT2014                 0.45   \n",
              "\n",
              "               PM25_med_pred       PM25_mean_pred        PM25_pop_pred  \n",
              "6478426               335.28               385.23               382.66  \n",
              "6544895               316.72               329.52               323.51  \n",
              "6345488               296.40               286.04               304.04  \n",
              "6570460               284.35               276.45               280.36  \n",
              "6299471               240.18               242.96               229.26  \n",
              "...                      ...                  ...                  ...  \n",
              "2606608                 0.31                 0.31                 0.31  \n",
              "5082111                 0.29                 0.31                 0.30  \n",
              "5107676                 0.29                 0.37                 0.34  \n",
              "5302111                 0.29                 0.29                 0.29  \n",
              "5296998                 0.26                 0.27                 0.27  \n",
              "\n",
              "[5383989 rows x 8 columns]"
            ],
            "text/html": [
              "\n",
              "  <div id=\"df-9c29ac04-1e07-4113-9355-db996b1a5f3c\">\n",
              "    <div class=\"colab-df-container\">\n",
              "      <div>\n",
              "<style scoped>\n",
              "    .dataframe tbody tr th:only-of-type {\n",
              "        vertical-align: middle;\n",
              "    }\n",
              "\n",
              "    .dataframe tbody tr th {\n",
              "        vertical-align: top;\n",
              "    }\n",
              "\n",
              "    .dataframe thead th {\n",
              "        text-align: right;\n",
              "    }\n",
              "</style>\n",
              "<table border=\"1\" class=\"dataframe\">\n",
              "  <thead>\n",
              "    <tr style=\"text-align: right;\">\n",
              "      <th></th>\n",
              "      <th>FIPS</th>\n",
              "      <th>Recent Trend</th>\n",
              "      <th>year</th>\n",
              "      <th>date</th>\n",
              "      <th>PM25_max_pred</th>\n",
              "      <th>PM25_med_pred</th>\n",
              "      <th>PM25_mean_pred</th>\n",
              "      <th>PM25_pop_pred</th>\n",
              "    </tr>\n",
              "  </thead>\n",
              "  <tbody>\n",
              "    <tr>\n",
              "      <th>6478426</th>\n",
              "      <td>29125</td>\n",
              "      <td>stable</td>\n",
              "      <td>2001</td>\n",
              "      <td>13SEP2001</td>\n",
              "      <td>491.53</td>\n",
              "      <td>335.28</td>\n",
              "      <td>385.23</td>\n",
              "      <td>382.66</td>\n",
              "    </tr>\n",
              "    <tr>\n",
              "      <th>6544895</th>\n",
              "      <td>29151</td>\n",
              "      <td>stable</td>\n",
              "      <td>2001</td>\n",
              "      <td>13SEP2001</td>\n",
              "      <td>428.69</td>\n",
              "      <td>316.72</td>\n",
              "      <td>329.52</td>\n",
              "      <td>323.51</td>\n",
              "    </tr>\n",
              "    <tr>\n",
              "      <th>6345488</th>\n",
              "      <td>29073</td>\n",
              "      <td>falling</td>\n",
              "      <td>2001</td>\n",
              "      <td>13SEP2001</td>\n",
              "      <td>385.53</td>\n",
              "      <td>296.40</td>\n",
              "      <td>286.04</td>\n",
              "      <td>304.04</td>\n",
              "    </tr>\n",
              "    <tr>\n",
              "      <th>6570460</th>\n",
              "      <td>29161</td>\n",
              "      <td>stable</td>\n",
              "      <td>2001</td>\n",
              "      <td>13SEP2001</td>\n",
              "      <td>334.58</td>\n",
              "      <td>284.35</td>\n",
              "      <td>276.45</td>\n",
              "      <td>280.36</td>\n",
              "    </tr>\n",
              "    <tr>\n",
              "      <th>6299471</th>\n",
              "      <td>29055</td>\n",
              "      <td>stable</td>\n",
              "      <td>2001</td>\n",
              "      <td>13SEP2001</td>\n",
              "      <td>309.95</td>\n",
              "      <td>240.18</td>\n",
              "      <td>242.96</td>\n",
              "      <td>229.26</td>\n",
              "    </tr>\n",
              "    <tr>\n",
              "      <th>...</th>\n",
              "      <td>...</td>\n",
              "      <td>...</td>\n",
              "      <td>...</td>\n",
              "      <td>...</td>\n",
              "      <td>...</td>\n",
              "      <td>...</td>\n",
              "      <td>...</td>\n",
              "      <td>...</td>\n",
              "    </tr>\n",
              "    <tr>\n",
              "      <th>2606608</th>\n",
              "      <td>16079</td>\n",
              "      <td>stable</td>\n",
              "      <td>2012</td>\n",
              "      <td>15MAR2012</td>\n",
              "      <td>0.34</td>\n",
              "      <td>0.31</td>\n",
              "      <td>0.31</td>\n",
              "      <td>0.31</td>\n",
              "    </tr>\n",
              "    <tr>\n",
              "      <th>5082111</th>\n",
              "      <td>23009</td>\n",
              "      <td>stable</td>\n",
              "      <td>2014</td>\n",
              "      <td>04JUN2014</td>\n",
              "      <td>0.55</td>\n",
              "      <td>0.29</td>\n",
              "      <td>0.31</td>\n",
              "      <td>0.30</td>\n",
              "    </tr>\n",
              "    <tr>\n",
              "      <th>5107676</th>\n",
              "      <td>23019</td>\n",
              "      <td>stable</td>\n",
              "      <td>2014</td>\n",
              "      <td>04JUN2014</td>\n",
              "      <td>1.27</td>\n",
              "      <td>0.29</td>\n",
              "      <td>0.37</td>\n",
              "      <td>0.34</td>\n",
              "    </tr>\n",
              "    <tr>\n",
              "      <th>5302111</th>\n",
              "      <td>25015</td>\n",
              "      <td>stable</td>\n",
              "      <td>2014</td>\n",
              "      <td>23OCT2014</td>\n",
              "      <td>0.38</td>\n",
              "      <td>0.29</td>\n",
              "      <td>0.29</td>\n",
              "      <td>0.29</td>\n",
              "    </tr>\n",
              "    <tr>\n",
              "      <th>5296998</th>\n",
              "      <td>25013</td>\n",
              "      <td>stable</td>\n",
              "      <td>2014</td>\n",
              "      <td>23OCT2014</td>\n",
              "      <td>0.45</td>\n",
              "      <td>0.26</td>\n",
              "      <td>0.27</td>\n",
              "      <td>0.27</td>\n",
              "    </tr>\n",
              "  </tbody>\n",
              "</table>\n",
              "<p>5383989 rows × 8 columns</p>\n",
              "</div>\n",
              "      <button class=\"colab-df-convert\" onclick=\"convertToInteractive('df-9c29ac04-1e07-4113-9355-db996b1a5f3c')\"\n",
              "              title=\"Convert this dataframe to an interactive table.\"\n",
              "              style=\"display:none;\">\n",
              "        \n",
              "  <svg xmlns=\"http://www.w3.org/2000/svg\" height=\"24px\"viewBox=\"0 0 24 24\"\n",
              "       width=\"24px\">\n",
              "    <path d=\"M0 0h24v24H0V0z\" fill=\"none\"/>\n",
              "    <path d=\"M18.56 5.44l.94 2.06.94-2.06 2.06-.94-2.06-.94-.94-2.06-.94 2.06-2.06.94zm-11 1L8.5 8.5l.94-2.06 2.06-.94-2.06-.94L8.5 2.5l-.94 2.06-2.06.94zm10 10l.94 2.06.94-2.06 2.06-.94-2.06-.94-.94-2.06-.94 2.06-2.06.94z\"/><path d=\"M17.41 7.96l-1.37-1.37c-.4-.4-.92-.59-1.43-.59-.52 0-1.04.2-1.43.59L10.3 9.45l-7.72 7.72c-.78.78-.78 2.05 0 2.83L4 21.41c.39.39.9.59 1.41.59.51 0 1.02-.2 1.41-.59l7.78-7.78 2.81-2.81c.8-.78.8-2.07 0-2.86zM5.41 20L4 18.59l7.72-7.72 1.47 1.35L5.41 20z\"/>\n",
              "  </svg>\n",
              "      </button>\n",
              "      \n",
              "  <style>\n",
              "    .colab-df-container {\n",
              "      display:flex;\n",
              "      flex-wrap:wrap;\n",
              "      gap: 12px;\n",
              "    }\n",
              "\n",
              "    .colab-df-convert {\n",
              "      background-color: #E8F0FE;\n",
              "      border: none;\n",
              "      border-radius: 50%;\n",
              "      cursor: pointer;\n",
              "      display: none;\n",
              "      fill: #1967D2;\n",
              "      height: 32px;\n",
              "      padding: 0 0 0 0;\n",
              "      width: 32px;\n",
              "    }\n",
              "\n",
              "    .colab-df-convert:hover {\n",
              "      background-color: #E2EBFA;\n",
              "      box-shadow: 0px 1px 2px rgba(60, 64, 67, 0.3), 0px 1px 3px 1px rgba(60, 64, 67, 0.15);\n",
              "      fill: #174EA6;\n",
              "    }\n",
              "\n",
              "    [theme=dark] .colab-df-convert {\n",
              "      background-color: #3B4455;\n",
              "      fill: #D2E3FC;\n",
              "    }\n",
              "\n",
              "    [theme=dark] .colab-df-convert:hover {\n",
              "      background-color: #434B5C;\n",
              "      box-shadow: 0px 1px 3px 1px rgba(0, 0, 0, 0.15);\n",
              "      filter: drop-shadow(0px 1px 2px rgba(0, 0, 0, 0.3));\n",
              "      fill: #FFFFFF;\n",
              "    }\n",
              "  </style>\n",
              "\n",
              "      <script>\n",
              "        const buttonEl =\n",
              "          document.querySelector('#df-9c29ac04-1e07-4113-9355-db996b1a5f3c button.colab-df-convert');\n",
              "        buttonEl.style.display =\n",
              "          google.colab.kernel.accessAllowed ? 'block' : 'none';\n",
              "\n",
              "        async function convertToInteractive(key) {\n",
              "          const element = document.querySelector('#df-9c29ac04-1e07-4113-9355-db996b1a5f3c');\n",
              "          const dataTable =\n",
              "            await google.colab.kernel.invokeFunction('convertToInteractive',\n",
              "                                                     [key], {});\n",
              "          if (!dataTable) return;\n",
              "\n",
              "          const docLinkHtml = 'Like what you see? Visit the ' +\n",
              "            '<a target=\"_blank\" href=https://colab.research.google.com/notebooks/data_table.ipynb>data table notebook</a>'\n",
              "            + ' to learn more about interactive tables.';\n",
              "          element.innerHTML = '';\n",
              "          dataTable['output_type'] = 'display_data';\n",
              "          await google.colab.output.renderOutput(dataTable, element);\n",
              "          const docLink = document.createElement('div');\n",
              "          docLink.innerHTML = docLinkHtml;\n",
              "          element.appendChild(docLink);\n",
              "        }\n",
              "      </script>\n",
              "    </div>\n",
              "  </div>\n",
              "  "
            ]
          },
          "metadata": {},
          "execution_count": 38
        }
      ]
    },
    {
      "cell_type": "code",
      "source": [
        "# sort values of top FIP to see if there are multiple high values\n",
        "\n",
        "df[df['FIPS']==29125].sort_values('PM25_med_pred', ascending=False)\n",
        "\n",
        "# there are not--possibly outlier?"
      ],
      "metadata": {
        "colab": {
          "base_uri": "https://localhost:8080/",
          "height": 505
        },
        "id": "tl2QoWL1In02",
        "outputId": "9228dd19-df1e-4cae-ff3f-e1467ca8df64"
      },
      "execution_count": 39,
      "outputs": [
        {
          "output_type": "execute_result",
          "data": {
            "text/plain": [
              "          FIPS Recent Trend  year       date        PM25_max_pred  \\\n",
              "6478426  29125       stable  2001  13SEP2001               491.53   \n",
              "6478384  29125       stable  2001  02AUG2001                67.85   \n",
              "6479885  29125       stable  2005  11SEP2005                41.98   \n",
              "6481523  29125       stable  2010  07MAR2010                39.62   \n",
              "6478390  29125       stable  2001  08AUG2001                40.38   \n",
              "...        ...          ...   ...        ...                  ...   \n",
              "6483037  29125       stable  2014  29APR2014                 2.18   \n",
              "6478437  29125       stable  2001  24SEP2001                 2.10   \n",
              "6482832  29125       stable  2013  06OCT2013                 1.94   \n",
              "6483205  29125       stable  2014  14OCT2014                 1.52   \n",
              "6482676  29125       stable  2013  03MAY2013                 0.76   \n",
              "\n",
              "               PM25_med_pred       PM25_mean_pred        PM25_pop_pred  \n",
              "6478426               335.28               385.23               382.66  \n",
              "6478384                56.12                59.32                59.05  \n",
              "6479885                41.20                41.11                41.10  \n",
              "6481523                39.18                39.11                39.14  \n",
              "6478390                38.28                38.49                38.39  \n",
              "...                      ...                  ...                  ...  \n",
              "6483037                 2.16                 2.16                 2.16  \n",
              "6478437                 2.08                 2.06                 2.06  \n",
              "6482832                 1.94                 1.92                 1.92  \n",
              "6483205                 1.48                 1.37                 1.37  \n",
              "6482676                 0.73                 0.72                 0.72  \n",
              "\n",
              "[5113 rows x 8 columns]"
            ],
            "text/html": [
              "\n",
              "  <div id=\"df-ae58bda4-030a-47c0-b61a-41e42c9b1090\">\n",
              "    <div class=\"colab-df-container\">\n",
              "      <div>\n",
              "<style scoped>\n",
              "    .dataframe tbody tr th:only-of-type {\n",
              "        vertical-align: middle;\n",
              "    }\n",
              "\n",
              "    .dataframe tbody tr th {\n",
              "        vertical-align: top;\n",
              "    }\n",
              "\n",
              "    .dataframe thead th {\n",
              "        text-align: right;\n",
              "    }\n",
              "</style>\n",
              "<table border=\"1\" class=\"dataframe\">\n",
              "  <thead>\n",
              "    <tr style=\"text-align: right;\">\n",
              "      <th></th>\n",
              "      <th>FIPS</th>\n",
              "      <th>Recent Trend</th>\n",
              "      <th>year</th>\n",
              "      <th>date</th>\n",
              "      <th>PM25_max_pred</th>\n",
              "      <th>PM25_med_pred</th>\n",
              "      <th>PM25_mean_pred</th>\n",
              "      <th>PM25_pop_pred</th>\n",
              "    </tr>\n",
              "  </thead>\n",
              "  <tbody>\n",
              "    <tr>\n",
              "      <th>6478426</th>\n",
              "      <td>29125</td>\n",
              "      <td>stable</td>\n",
              "      <td>2001</td>\n",
              "      <td>13SEP2001</td>\n",
              "      <td>491.53</td>\n",
              "      <td>335.28</td>\n",
              "      <td>385.23</td>\n",
              "      <td>382.66</td>\n",
              "    </tr>\n",
              "    <tr>\n",
              "      <th>6478384</th>\n",
              "      <td>29125</td>\n",
              "      <td>stable</td>\n",
              "      <td>2001</td>\n",
              "      <td>02AUG2001</td>\n",
              "      <td>67.85</td>\n",
              "      <td>56.12</td>\n",
              "      <td>59.32</td>\n",
              "      <td>59.05</td>\n",
              "    </tr>\n",
              "    <tr>\n",
              "      <th>6479885</th>\n",
              "      <td>29125</td>\n",
              "      <td>stable</td>\n",
              "      <td>2005</td>\n",
              "      <td>11SEP2005</td>\n",
              "      <td>41.98</td>\n",
              "      <td>41.20</td>\n",
              "      <td>41.11</td>\n",
              "      <td>41.10</td>\n",
              "    </tr>\n",
              "    <tr>\n",
              "      <th>6481523</th>\n",
              "      <td>29125</td>\n",
              "      <td>stable</td>\n",
              "      <td>2010</td>\n",
              "      <td>07MAR2010</td>\n",
              "      <td>39.62</td>\n",
              "      <td>39.18</td>\n",
              "      <td>39.11</td>\n",
              "      <td>39.14</td>\n",
              "    </tr>\n",
              "    <tr>\n",
              "      <th>6478390</th>\n",
              "      <td>29125</td>\n",
              "      <td>stable</td>\n",
              "      <td>2001</td>\n",
              "      <td>08AUG2001</td>\n",
              "      <td>40.38</td>\n",
              "      <td>38.28</td>\n",
              "      <td>38.49</td>\n",
              "      <td>38.39</td>\n",
              "    </tr>\n",
              "    <tr>\n",
              "      <th>...</th>\n",
              "      <td>...</td>\n",
              "      <td>...</td>\n",
              "      <td>...</td>\n",
              "      <td>...</td>\n",
              "      <td>...</td>\n",
              "      <td>...</td>\n",
              "      <td>...</td>\n",
              "      <td>...</td>\n",
              "    </tr>\n",
              "    <tr>\n",
              "      <th>6483037</th>\n",
              "      <td>29125</td>\n",
              "      <td>stable</td>\n",
              "      <td>2014</td>\n",
              "      <td>29APR2014</td>\n",
              "      <td>2.18</td>\n",
              "      <td>2.16</td>\n",
              "      <td>2.16</td>\n",
              "      <td>2.16</td>\n",
              "    </tr>\n",
              "    <tr>\n",
              "      <th>6478437</th>\n",
              "      <td>29125</td>\n",
              "      <td>stable</td>\n",
              "      <td>2001</td>\n",
              "      <td>24SEP2001</td>\n",
              "      <td>2.10</td>\n",
              "      <td>2.08</td>\n",
              "      <td>2.06</td>\n",
              "      <td>2.06</td>\n",
              "    </tr>\n",
              "    <tr>\n",
              "      <th>6482832</th>\n",
              "      <td>29125</td>\n",
              "      <td>stable</td>\n",
              "      <td>2013</td>\n",
              "      <td>06OCT2013</td>\n",
              "      <td>1.94</td>\n",
              "      <td>1.94</td>\n",
              "      <td>1.92</td>\n",
              "      <td>1.92</td>\n",
              "    </tr>\n",
              "    <tr>\n",
              "      <th>6483205</th>\n",
              "      <td>29125</td>\n",
              "      <td>stable</td>\n",
              "      <td>2014</td>\n",
              "      <td>14OCT2014</td>\n",
              "      <td>1.52</td>\n",
              "      <td>1.48</td>\n",
              "      <td>1.37</td>\n",
              "      <td>1.37</td>\n",
              "    </tr>\n",
              "    <tr>\n",
              "      <th>6482676</th>\n",
              "      <td>29125</td>\n",
              "      <td>stable</td>\n",
              "      <td>2013</td>\n",
              "      <td>03MAY2013</td>\n",
              "      <td>0.76</td>\n",
              "      <td>0.73</td>\n",
              "      <td>0.72</td>\n",
              "      <td>0.72</td>\n",
              "    </tr>\n",
              "  </tbody>\n",
              "</table>\n",
              "<p>5113 rows × 8 columns</p>\n",
              "</div>\n",
              "      <button class=\"colab-df-convert\" onclick=\"convertToInteractive('df-ae58bda4-030a-47c0-b61a-41e42c9b1090')\"\n",
              "              title=\"Convert this dataframe to an interactive table.\"\n",
              "              style=\"display:none;\">\n",
              "        \n",
              "  <svg xmlns=\"http://www.w3.org/2000/svg\" height=\"24px\"viewBox=\"0 0 24 24\"\n",
              "       width=\"24px\">\n",
              "    <path d=\"M0 0h24v24H0V0z\" fill=\"none\"/>\n",
              "    <path d=\"M18.56 5.44l.94 2.06.94-2.06 2.06-.94-2.06-.94-.94-2.06-.94 2.06-2.06.94zm-11 1L8.5 8.5l.94-2.06 2.06-.94-2.06-.94L8.5 2.5l-.94 2.06-2.06.94zm10 10l.94 2.06.94-2.06 2.06-.94-2.06-.94-.94-2.06-.94 2.06-2.06.94z\"/><path d=\"M17.41 7.96l-1.37-1.37c-.4-.4-.92-.59-1.43-.59-.52 0-1.04.2-1.43.59L10.3 9.45l-7.72 7.72c-.78.78-.78 2.05 0 2.83L4 21.41c.39.39.9.59 1.41.59.51 0 1.02-.2 1.41-.59l7.78-7.78 2.81-2.81c.8-.78.8-2.07 0-2.86zM5.41 20L4 18.59l7.72-7.72 1.47 1.35L5.41 20z\"/>\n",
              "  </svg>\n",
              "      </button>\n",
              "      \n",
              "  <style>\n",
              "    .colab-df-container {\n",
              "      display:flex;\n",
              "      flex-wrap:wrap;\n",
              "      gap: 12px;\n",
              "    }\n",
              "\n",
              "    .colab-df-convert {\n",
              "      background-color: #E8F0FE;\n",
              "      border: none;\n",
              "      border-radius: 50%;\n",
              "      cursor: pointer;\n",
              "      display: none;\n",
              "      fill: #1967D2;\n",
              "      height: 32px;\n",
              "      padding: 0 0 0 0;\n",
              "      width: 32px;\n",
              "    }\n",
              "\n",
              "    .colab-df-convert:hover {\n",
              "      background-color: #E2EBFA;\n",
              "      box-shadow: 0px 1px 2px rgba(60, 64, 67, 0.3), 0px 1px 3px 1px rgba(60, 64, 67, 0.15);\n",
              "      fill: #174EA6;\n",
              "    }\n",
              "\n",
              "    [theme=dark] .colab-df-convert {\n",
              "      background-color: #3B4455;\n",
              "      fill: #D2E3FC;\n",
              "    }\n",
              "\n",
              "    [theme=dark] .colab-df-convert:hover {\n",
              "      background-color: #434B5C;\n",
              "      box-shadow: 0px 1px 3px 1px rgba(0, 0, 0, 0.15);\n",
              "      filter: drop-shadow(0px 1px 2px rgba(0, 0, 0, 0.3));\n",
              "      fill: #FFFFFF;\n",
              "    }\n",
              "  </style>\n",
              "\n",
              "      <script>\n",
              "        const buttonEl =\n",
              "          document.querySelector('#df-ae58bda4-030a-47c0-b61a-41e42c9b1090 button.colab-df-convert');\n",
              "        buttonEl.style.display =\n",
              "          google.colab.kernel.accessAllowed ? 'block' : 'none';\n",
              "\n",
              "        async function convertToInteractive(key) {\n",
              "          const element = document.querySelector('#df-ae58bda4-030a-47c0-b61a-41e42c9b1090');\n",
              "          const dataTable =\n",
              "            await google.colab.kernel.invokeFunction('convertToInteractive',\n",
              "                                                     [key], {});\n",
              "          if (!dataTable) return;\n",
              "\n",
              "          const docLinkHtml = 'Like what you see? Visit the ' +\n",
              "            '<a target=\"_blank\" href=https://colab.research.google.com/notebooks/data_table.ipynb>data table notebook</a>'\n",
              "            + ' to learn more about interactive tables.';\n",
              "          element.innerHTML = '';\n",
              "          dataTable['output_type'] = 'display_data';\n",
              "          await google.colab.output.renderOutput(dataTable, element);\n",
              "          const docLink = document.createElement('div');\n",
              "          docLink.innerHTML = docLinkHtml;\n",
              "          element.appendChild(docLink);\n",
              "        }\n",
              "      </script>\n",
              "    </div>\n",
              "  </div>\n",
              "  "
            ]
          },
          "metadata": {},
          "execution_count": 39
        }
      ]
    },
    {
      "cell_type": "code",
      "source": [
        "# sort the values of the high FIP by the month to see if the spike is sudden\n",
        "df[(df['FIPS']==29125)&(df['date'].str.contains('SEP2001'))]\n",
        "# it is--possibly an outlier??"
      ],
      "metadata": {
        "colab": {
          "base_uri": "https://localhost:8080/",
          "height": 1000
        },
        "id": "cvnPHBieJ2Sl",
        "outputId": "0f7f884c-20f7-4632-c824-05d8eb1cfdb6"
      },
      "execution_count": 40,
      "outputs": [
        {
          "output_type": "execute_result",
          "data": {
            "text/plain": [
              "          FIPS Recent Trend  year       date        PM25_max_pred  \\\n",
              "6478414  29125       stable  2001  01SEP2001                10.78   \n",
              "6478415  29125       stable  2001  02SEP2001                11.50   \n",
              "6478416  29125       stable  2001  03SEP2001                14.02   \n",
              "6478417  29125       stable  2001  04SEP2001                13.57   \n",
              "6478418  29125       stable  2001  05SEP2001                22.08   \n",
              "6478419  29125       stable  2001  06SEP2001                13.46   \n",
              "6478420  29125       stable  2001  07SEP2001                34.32   \n",
              "6478421  29125       stable  2001  08SEP2001                 4.75   \n",
              "6478422  29125       stable  2001  09SEP2001                 4.54   \n",
              "6478423  29125       stable  2001  10SEP2001                18.02   \n",
              "6478424  29125       stable  2001  11SEP2001                 8.65   \n",
              "6478425  29125       stable  2001  12SEP2001                10.23   \n",
              "6478426  29125       stable  2001  13SEP2001               491.53   \n",
              "6478427  29125       stable  2001  14SEP2001                 7.37   \n",
              "6478428  29125       stable  2001  15SEP2001                 9.07   \n",
              "6478429  29125       stable  2001  16SEP2001                15.14   \n",
              "6478430  29125       stable  2001  17SEP2001                14.20   \n",
              "6478431  29125       stable  2001  18SEP2001                12.66   \n",
              "6478432  29125       stable  2001  19SEP2001                11.99   \n",
              "6478433  29125       stable  2001  20SEP2001                10.99   \n",
              "6478434  29125       stable  2001  21SEP2001                 8.22   \n",
              "6478435  29125       stable  2001  22SEP2001                 7.17   \n",
              "6478436  29125       stable  2001  23SEP2001                 6.88   \n",
              "6478437  29125       stable  2001  24SEP2001                 2.10   \n",
              "6478438  29125       stable  2001  25SEP2001                 3.93   \n",
              "6478439  29125       stable  2001  26SEP2001                 5.37   \n",
              "6478440  29125       stable  2001  27SEP2001                 6.86   \n",
              "6478441  29125       stable  2001  28SEP2001                11.03   \n",
              "6478442  29125       stable  2001  29SEP2001                10.57   \n",
              "6478443  29125       stable  2001  30SEP2001                11.50   \n",
              "\n",
              "               PM25_med_pred       PM25_mean_pred        PM25_pop_pred  \n",
              "6478414                10.30                10.44                10.44  \n",
              "6478415                10.96                10.97                10.94  \n",
              "6478416                13.42                13.52                13.52  \n",
              "6478417                12.61                12.82                12.79  \n",
              "6478418                21.24                21.40                21.46  \n",
              "6478419                13.01                13.11                13.09  \n",
              "6478420                26.97                29.31                29.19  \n",
              "6478421                 4.75                 4.74                 4.74  \n",
              "6478422                 4.53                 4.46                 4.44  \n",
              "6478423                15.01                15.96                15.91  \n",
              "6478424                 8.35                 8.39                 8.39  \n",
              "6478425                 9.46                 9.69                 9.68  \n",
              "6478426               335.28               385.23               382.66  \n",
              "6478427                 7.29                 7.25                 7.26  \n",
              "6478428                 8.72                 8.73                 8.71  \n",
              "6478429                15.03                14.96                14.94  \n",
              "6478430                13.64                13.80                13.80  \n",
              "6478431                12.54                12.54                12.54  \n",
              "6478432                11.88                11.74                11.72  \n",
              "6478433                10.94                10.95                10.95  \n",
              "6478434                 8.01                 8.06                 8.05  \n",
              "6478435                 6.92                 6.98                 6.97  \n",
              "6478436                 6.87                 6.84                 6.85  \n",
              "6478437                 2.08                 2.06                 2.06  \n",
              "6478438                 3.78                 3.78                 3.78  \n",
              "6478439                 5.34                 5.34                 5.34  \n",
              "6478440                 6.72                 6.73                 6.74  \n",
              "6478441                10.39                10.57                10.56  \n",
              "6478442                10.40                10.39                10.37  \n",
              "6478443                11.48                11.43                11.42  "
            ],
            "text/html": [
              "\n",
              "  <div id=\"df-63b07490-d471-4179-b16b-1c8326f62718\">\n",
              "    <div class=\"colab-df-container\">\n",
              "      <div>\n",
              "<style scoped>\n",
              "    .dataframe tbody tr th:only-of-type {\n",
              "        vertical-align: middle;\n",
              "    }\n",
              "\n",
              "    .dataframe tbody tr th {\n",
              "        vertical-align: top;\n",
              "    }\n",
              "\n",
              "    .dataframe thead th {\n",
              "        text-align: right;\n",
              "    }\n",
              "</style>\n",
              "<table border=\"1\" class=\"dataframe\">\n",
              "  <thead>\n",
              "    <tr style=\"text-align: right;\">\n",
              "      <th></th>\n",
              "      <th>FIPS</th>\n",
              "      <th>Recent Trend</th>\n",
              "      <th>year</th>\n",
              "      <th>date</th>\n",
              "      <th>PM25_max_pred</th>\n",
              "      <th>PM25_med_pred</th>\n",
              "      <th>PM25_mean_pred</th>\n",
              "      <th>PM25_pop_pred</th>\n",
              "    </tr>\n",
              "  </thead>\n",
              "  <tbody>\n",
              "    <tr>\n",
              "      <th>6478414</th>\n",
              "      <td>29125</td>\n",
              "      <td>stable</td>\n",
              "      <td>2001</td>\n",
              "      <td>01SEP2001</td>\n",
              "      <td>10.78</td>\n",
              "      <td>10.30</td>\n",
              "      <td>10.44</td>\n",
              "      <td>10.44</td>\n",
              "    </tr>\n",
              "    <tr>\n",
              "      <th>6478415</th>\n",
              "      <td>29125</td>\n",
              "      <td>stable</td>\n",
              "      <td>2001</td>\n",
              "      <td>02SEP2001</td>\n",
              "      <td>11.50</td>\n",
              "      <td>10.96</td>\n",
              "      <td>10.97</td>\n",
              "      <td>10.94</td>\n",
              "    </tr>\n",
              "    <tr>\n",
              "      <th>6478416</th>\n",
              "      <td>29125</td>\n",
              "      <td>stable</td>\n",
              "      <td>2001</td>\n",
              "      <td>03SEP2001</td>\n",
              "      <td>14.02</td>\n",
              "      <td>13.42</td>\n",
              "      <td>13.52</td>\n",
              "      <td>13.52</td>\n",
              "    </tr>\n",
              "    <tr>\n",
              "      <th>6478417</th>\n",
              "      <td>29125</td>\n",
              "      <td>stable</td>\n",
              "      <td>2001</td>\n",
              "      <td>04SEP2001</td>\n",
              "      <td>13.57</td>\n",
              "      <td>12.61</td>\n",
              "      <td>12.82</td>\n",
              "      <td>12.79</td>\n",
              "    </tr>\n",
              "    <tr>\n",
              "      <th>6478418</th>\n",
              "      <td>29125</td>\n",
              "      <td>stable</td>\n",
              "      <td>2001</td>\n",
              "      <td>05SEP2001</td>\n",
              "      <td>22.08</td>\n",
              "      <td>21.24</td>\n",
              "      <td>21.40</td>\n",
              "      <td>21.46</td>\n",
              "    </tr>\n",
              "    <tr>\n",
              "      <th>6478419</th>\n",
              "      <td>29125</td>\n",
              "      <td>stable</td>\n",
              "      <td>2001</td>\n",
              "      <td>06SEP2001</td>\n",
              "      <td>13.46</td>\n",
              "      <td>13.01</td>\n",
              "      <td>13.11</td>\n",
              "      <td>13.09</td>\n",
              "    </tr>\n",
              "    <tr>\n",
              "      <th>6478420</th>\n",
              "      <td>29125</td>\n",
              "      <td>stable</td>\n",
              "      <td>2001</td>\n",
              "      <td>07SEP2001</td>\n",
              "      <td>34.32</td>\n",
              "      <td>26.97</td>\n",
              "      <td>29.31</td>\n",
              "      <td>29.19</td>\n",
              "    </tr>\n",
              "    <tr>\n",
              "      <th>6478421</th>\n",
              "      <td>29125</td>\n",
              "      <td>stable</td>\n",
              "      <td>2001</td>\n",
              "      <td>08SEP2001</td>\n",
              "      <td>4.75</td>\n",
              "      <td>4.75</td>\n",
              "      <td>4.74</td>\n",
              "      <td>4.74</td>\n",
              "    </tr>\n",
              "    <tr>\n",
              "      <th>6478422</th>\n",
              "      <td>29125</td>\n",
              "      <td>stable</td>\n",
              "      <td>2001</td>\n",
              "      <td>09SEP2001</td>\n",
              "      <td>4.54</td>\n",
              "      <td>4.53</td>\n",
              "      <td>4.46</td>\n",
              "      <td>4.44</td>\n",
              "    </tr>\n",
              "    <tr>\n",
              "      <th>6478423</th>\n",
              "      <td>29125</td>\n",
              "      <td>stable</td>\n",
              "      <td>2001</td>\n",
              "      <td>10SEP2001</td>\n",
              "      <td>18.02</td>\n",
              "      <td>15.01</td>\n",
              "      <td>15.96</td>\n",
              "      <td>15.91</td>\n",
              "    </tr>\n",
              "    <tr>\n",
              "      <th>6478424</th>\n",
              "      <td>29125</td>\n",
              "      <td>stable</td>\n",
              "      <td>2001</td>\n",
              "      <td>11SEP2001</td>\n",
              "      <td>8.65</td>\n",
              "      <td>8.35</td>\n",
              "      <td>8.39</td>\n",
              "      <td>8.39</td>\n",
              "    </tr>\n",
              "    <tr>\n",
              "      <th>6478425</th>\n",
              "      <td>29125</td>\n",
              "      <td>stable</td>\n",
              "      <td>2001</td>\n",
              "      <td>12SEP2001</td>\n",
              "      <td>10.23</td>\n",
              "      <td>9.46</td>\n",
              "      <td>9.69</td>\n",
              "      <td>9.68</td>\n",
              "    </tr>\n",
              "    <tr>\n",
              "      <th>6478426</th>\n",
              "      <td>29125</td>\n",
              "      <td>stable</td>\n",
              "      <td>2001</td>\n",
              "      <td>13SEP2001</td>\n",
              "      <td>491.53</td>\n",
              "      <td>335.28</td>\n",
              "      <td>385.23</td>\n",
              "      <td>382.66</td>\n",
              "    </tr>\n",
              "    <tr>\n",
              "      <th>6478427</th>\n",
              "      <td>29125</td>\n",
              "      <td>stable</td>\n",
              "      <td>2001</td>\n",
              "      <td>14SEP2001</td>\n",
              "      <td>7.37</td>\n",
              "      <td>7.29</td>\n",
              "      <td>7.25</td>\n",
              "      <td>7.26</td>\n",
              "    </tr>\n",
              "    <tr>\n",
              "      <th>6478428</th>\n",
              "      <td>29125</td>\n",
              "      <td>stable</td>\n",
              "      <td>2001</td>\n",
              "      <td>15SEP2001</td>\n",
              "      <td>9.07</td>\n",
              "      <td>8.72</td>\n",
              "      <td>8.73</td>\n",
              "      <td>8.71</td>\n",
              "    </tr>\n",
              "    <tr>\n",
              "      <th>6478429</th>\n",
              "      <td>29125</td>\n",
              "      <td>stable</td>\n",
              "      <td>2001</td>\n",
              "      <td>16SEP2001</td>\n",
              "      <td>15.14</td>\n",
              "      <td>15.03</td>\n",
              "      <td>14.96</td>\n",
              "      <td>14.94</td>\n",
              "    </tr>\n",
              "    <tr>\n",
              "      <th>6478430</th>\n",
              "      <td>29125</td>\n",
              "      <td>stable</td>\n",
              "      <td>2001</td>\n",
              "      <td>17SEP2001</td>\n",
              "      <td>14.20</td>\n",
              "      <td>13.64</td>\n",
              "      <td>13.80</td>\n",
              "      <td>13.80</td>\n",
              "    </tr>\n",
              "    <tr>\n",
              "      <th>6478431</th>\n",
              "      <td>29125</td>\n",
              "      <td>stable</td>\n",
              "      <td>2001</td>\n",
              "      <td>18SEP2001</td>\n",
              "      <td>12.66</td>\n",
              "      <td>12.54</td>\n",
              "      <td>12.54</td>\n",
              "      <td>12.54</td>\n",
              "    </tr>\n",
              "    <tr>\n",
              "      <th>6478432</th>\n",
              "      <td>29125</td>\n",
              "      <td>stable</td>\n",
              "      <td>2001</td>\n",
              "      <td>19SEP2001</td>\n",
              "      <td>11.99</td>\n",
              "      <td>11.88</td>\n",
              "      <td>11.74</td>\n",
              "      <td>11.72</td>\n",
              "    </tr>\n",
              "    <tr>\n",
              "      <th>6478433</th>\n",
              "      <td>29125</td>\n",
              "      <td>stable</td>\n",
              "      <td>2001</td>\n",
              "      <td>20SEP2001</td>\n",
              "      <td>10.99</td>\n",
              "      <td>10.94</td>\n",
              "      <td>10.95</td>\n",
              "      <td>10.95</td>\n",
              "    </tr>\n",
              "    <tr>\n",
              "      <th>6478434</th>\n",
              "      <td>29125</td>\n",
              "      <td>stable</td>\n",
              "      <td>2001</td>\n",
              "      <td>21SEP2001</td>\n",
              "      <td>8.22</td>\n",
              "      <td>8.01</td>\n",
              "      <td>8.06</td>\n",
              "      <td>8.05</td>\n",
              "    </tr>\n",
              "    <tr>\n",
              "      <th>6478435</th>\n",
              "      <td>29125</td>\n",
              "      <td>stable</td>\n",
              "      <td>2001</td>\n",
              "      <td>22SEP2001</td>\n",
              "      <td>7.17</td>\n",
              "      <td>6.92</td>\n",
              "      <td>6.98</td>\n",
              "      <td>6.97</td>\n",
              "    </tr>\n",
              "    <tr>\n",
              "      <th>6478436</th>\n",
              "      <td>29125</td>\n",
              "      <td>stable</td>\n",
              "      <td>2001</td>\n",
              "      <td>23SEP2001</td>\n",
              "      <td>6.88</td>\n",
              "      <td>6.87</td>\n",
              "      <td>6.84</td>\n",
              "      <td>6.85</td>\n",
              "    </tr>\n",
              "    <tr>\n",
              "      <th>6478437</th>\n",
              "      <td>29125</td>\n",
              "      <td>stable</td>\n",
              "      <td>2001</td>\n",
              "      <td>24SEP2001</td>\n",
              "      <td>2.10</td>\n",
              "      <td>2.08</td>\n",
              "      <td>2.06</td>\n",
              "      <td>2.06</td>\n",
              "    </tr>\n",
              "    <tr>\n",
              "      <th>6478438</th>\n",
              "      <td>29125</td>\n",
              "      <td>stable</td>\n",
              "      <td>2001</td>\n",
              "      <td>25SEP2001</td>\n",
              "      <td>3.93</td>\n",
              "      <td>3.78</td>\n",
              "      <td>3.78</td>\n",
              "      <td>3.78</td>\n",
              "    </tr>\n",
              "    <tr>\n",
              "      <th>6478439</th>\n",
              "      <td>29125</td>\n",
              "      <td>stable</td>\n",
              "      <td>2001</td>\n",
              "      <td>26SEP2001</td>\n",
              "      <td>5.37</td>\n",
              "      <td>5.34</td>\n",
              "      <td>5.34</td>\n",
              "      <td>5.34</td>\n",
              "    </tr>\n",
              "    <tr>\n",
              "      <th>6478440</th>\n",
              "      <td>29125</td>\n",
              "      <td>stable</td>\n",
              "      <td>2001</td>\n",
              "      <td>27SEP2001</td>\n",
              "      <td>6.86</td>\n",
              "      <td>6.72</td>\n",
              "      <td>6.73</td>\n",
              "      <td>6.74</td>\n",
              "    </tr>\n",
              "    <tr>\n",
              "      <th>6478441</th>\n",
              "      <td>29125</td>\n",
              "      <td>stable</td>\n",
              "      <td>2001</td>\n",
              "      <td>28SEP2001</td>\n",
              "      <td>11.03</td>\n",
              "      <td>10.39</td>\n",
              "      <td>10.57</td>\n",
              "      <td>10.56</td>\n",
              "    </tr>\n",
              "    <tr>\n",
              "      <th>6478442</th>\n",
              "      <td>29125</td>\n",
              "      <td>stable</td>\n",
              "      <td>2001</td>\n",
              "      <td>29SEP2001</td>\n",
              "      <td>10.57</td>\n",
              "      <td>10.40</td>\n",
              "      <td>10.39</td>\n",
              "      <td>10.37</td>\n",
              "    </tr>\n",
              "    <tr>\n",
              "      <th>6478443</th>\n",
              "      <td>29125</td>\n",
              "      <td>stable</td>\n",
              "      <td>2001</td>\n",
              "      <td>30SEP2001</td>\n",
              "      <td>11.50</td>\n",
              "      <td>11.48</td>\n",
              "      <td>11.43</td>\n",
              "      <td>11.42</td>\n",
              "    </tr>\n",
              "  </tbody>\n",
              "</table>\n",
              "</div>\n",
              "      <button class=\"colab-df-convert\" onclick=\"convertToInteractive('df-63b07490-d471-4179-b16b-1c8326f62718')\"\n",
              "              title=\"Convert this dataframe to an interactive table.\"\n",
              "              style=\"display:none;\">\n",
              "        \n",
              "  <svg xmlns=\"http://www.w3.org/2000/svg\" height=\"24px\"viewBox=\"0 0 24 24\"\n",
              "       width=\"24px\">\n",
              "    <path d=\"M0 0h24v24H0V0z\" fill=\"none\"/>\n",
              "    <path d=\"M18.56 5.44l.94 2.06.94-2.06 2.06-.94-2.06-.94-.94-2.06-.94 2.06-2.06.94zm-11 1L8.5 8.5l.94-2.06 2.06-.94-2.06-.94L8.5 2.5l-.94 2.06-2.06.94zm10 10l.94 2.06.94-2.06 2.06-.94-2.06-.94-.94-2.06-.94 2.06-2.06.94z\"/><path d=\"M17.41 7.96l-1.37-1.37c-.4-.4-.92-.59-1.43-.59-.52 0-1.04.2-1.43.59L10.3 9.45l-7.72 7.72c-.78.78-.78 2.05 0 2.83L4 21.41c.39.39.9.59 1.41.59.51 0 1.02-.2 1.41-.59l7.78-7.78 2.81-2.81c.8-.78.8-2.07 0-2.86zM5.41 20L4 18.59l7.72-7.72 1.47 1.35L5.41 20z\"/>\n",
              "  </svg>\n",
              "      </button>\n",
              "      \n",
              "  <style>\n",
              "    .colab-df-container {\n",
              "      display:flex;\n",
              "      flex-wrap:wrap;\n",
              "      gap: 12px;\n",
              "    }\n",
              "\n",
              "    .colab-df-convert {\n",
              "      background-color: #E8F0FE;\n",
              "      border: none;\n",
              "      border-radius: 50%;\n",
              "      cursor: pointer;\n",
              "      display: none;\n",
              "      fill: #1967D2;\n",
              "      height: 32px;\n",
              "      padding: 0 0 0 0;\n",
              "      width: 32px;\n",
              "    }\n",
              "\n",
              "    .colab-df-convert:hover {\n",
              "      background-color: #E2EBFA;\n",
              "      box-shadow: 0px 1px 2px rgba(60, 64, 67, 0.3), 0px 1px 3px 1px rgba(60, 64, 67, 0.15);\n",
              "      fill: #174EA6;\n",
              "    }\n",
              "\n",
              "    [theme=dark] .colab-df-convert {\n",
              "      background-color: #3B4455;\n",
              "      fill: #D2E3FC;\n",
              "    }\n",
              "\n",
              "    [theme=dark] .colab-df-convert:hover {\n",
              "      background-color: #434B5C;\n",
              "      box-shadow: 0px 1px 3px 1px rgba(0, 0, 0, 0.15);\n",
              "      filter: drop-shadow(0px 1px 2px rgba(0, 0, 0, 0.3));\n",
              "      fill: #FFFFFF;\n",
              "    }\n",
              "  </style>\n",
              "\n",
              "      <script>\n",
              "        const buttonEl =\n",
              "          document.querySelector('#df-63b07490-d471-4179-b16b-1c8326f62718 button.colab-df-convert');\n",
              "        buttonEl.style.display =\n",
              "          google.colab.kernel.accessAllowed ? 'block' : 'none';\n",
              "\n",
              "        async function convertToInteractive(key) {\n",
              "          const element = document.querySelector('#df-63b07490-d471-4179-b16b-1c8326f62718');\n",
              "          const dataTable =\n",
              "            await google.colab.kernel.invokeFunction('convertToInteractive',\n",
              "                                                     [key], {});\n",
              "          if (!dataTable) return;\n",
              "\n",
              "          const docLinkHtml = 'Like what you see? Visit the ' +\n",
              "            '<a target=\"_blank\" href=https://colab.research.google.com/notebooks/data_table.ipynb>data table notebook</a>'\n",
              "            + ' to learn more about interactive tables.';\n",
              "          element.innerHTML = '';\n",
              "          dataTable['output_type'] = 'display_data';\n",
              "          await google.colab.output.renderOutput(dataTable, element);\n",
              "          const docLink = document.createElement('div');\n",
              "          docLink.innerHTML = docLinkHtml;\n",
              "          element.appendChild(docLink);\n",
              "        }\n",
              "      </script>\n",
              "    </div>\n",
              "  </div>\n",
              "  "
            ]
          },
          "metadata": {},
          "execution_count": 40
        }
      ]
    },
    {
      "cell_type": "code",
      "source": [
        "https://aaqr.org/articles/aaqr-20-05-oa-0217\n",
        "\n",
        "# the study linked above talks about variability in PM measurements\n",
        "## based on both their findings and my exploratory analysis, it might be worthwhile to remove measurements >100 as outliers"
      ],
      "metadata": {
        "id": "Ti77ShqLKepj"
      },
      "execution_count": null,
      "outputs": []
    }
  ]
}